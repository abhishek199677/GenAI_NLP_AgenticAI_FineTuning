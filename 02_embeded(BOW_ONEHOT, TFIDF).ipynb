{
 "cells": [
  {
   "cell_type": "code",
   "execution_count": 58,
   "metadata": {},
   "outputs": [],
   "source": [
    "corpus = [\"i love india\", \"i learnt machine learning\", \"i am a teacher\", \"i love my country\"]"
   ]
  },
  {
   "cell_type": "code",
   "execution_count": 59,
   "metadata": {},
   "outputs": [
    {
     "data": {
      "text/plain": [
       "'i love india i learnt machine learning i am a teacher i love my country'"
      ]
     },
     "execution_count": 59,
     "metadata": {},
     "output_type": "execute_result"
    }
   ],
   "source": [
    "\" \".join(corpus)  # concatenation of strings"
   ]
  },
  {
   "cell_type": "code",
   "execution_count": 60,
   "metadata": {},
   "outputs": [
    {
     "data": {
      "text/plain": [
       "['i',\n",
       " 'love',\n",
       " 'india',\n",
       " 'i',\n",
       " 'learnt',\n",
       " 'machine',\n",
       " 'learning',\n",
       " 'i',\n",
       " 'am',\n",
       " 'a',\n",
       " 'teacher',\n",
       " 'i',\n",
       " 'love',\n",
       " 'my',\n",
       " 'country']"
      ]
     },
     "execution_count": 60,
     "metadata": {},
     "output_type": "execute_result"
    }
   ],
   "source": [
    "\" \".join(corpus).split()  # splitting of strings"
   ]
  },
  {
   "cell_type": "code",
   "execution_count": 61,
   "metadata": {},
   "outputs": [
    {
     "data": {
      "text/plain": [
       "{'a',\n",
       " 'am',\n",
       " 'country',\n",
       " 'i',\n",
       " 'india',\n",
       " 'learning',\n",
       " 'learnt',\n",
       " 'love',\n",
       " 'machine',\n",
       " 'my',\n",
       " 'teacher'}"
      ]
     },
     "execution_count": 61,
     "metadata": {},
     "output_type": "execute_result"
    }
   ],
   "source": [
    "set(\" \".join(corpus).split())  # removing duplicates and trying to extract unique words"
   ]
  },
  {
   "cell_type": "code",
   "execution_count": 62,
   "metadata": {},
   "outputs": [],
   "source": [
    "unique_words = list(set(\" \".join(corpus).split()))   # converting set to list  "
   ]
  },
  {
   "cell_type": "code",
   "execution_count": 63,
   "metadata": {},
   "outputs": [
    {
     "data": {
      "text/plain": [
       "['i',\n",
       " 'love',\n",
       " 'india',\n",
       " 'country',\n",
       " 'machine',\n",
       " 'learnt',\n",
       " 'learning',\n",
       " 'a',\n",
       " 'teacher',\n",
       " 'my',\n",
       " 'am']"
      ]
     },
     "execution_count": 63,
     "metadata": {},
     "output_type": "execute_result"
    }
   ],
   "source": [
    "unique_words"
   ]
  },
  {
   "cell_type": "code",
   "execution_count": 64,
   "metadata": {},
   "outputs": [
    {
     "name": "stdout",
     "output_type": "stream",
     "text": [
      "(0, 'i')\n",
      "(1, 'love')\n",
      "(2, 'india')\n",
      "(3, 'country')\n",
      "(4, 'machine')\n",
      "(5, 'learnt')\n",
      "(6, 'learning')\n",
      "(7, 'a')\n",
      "(8, 'teacher')\n",
      "(9, 'my')\n",
      "(10, 'am')\n"
     ]
    }
   ],
   "source": [
    "#enumeration is used for getting index of unique words \n",
    "for i in enumerate(unique_words):  # enumeration of unique words and their index\n",
    "    print(i)"
   ]
  },
  {
   "cell_type": "code",
   "execution_count": 65,
   "metadata": {},
   "outputs": [],
   "source": [
    "word_to_index = {j:i for i, j in enumerate(unique_words)}  # converting enumeration to dictionary"
   ]
  },
  {
   "cell_type": "code",
   "execution_count": 66,
   "metadata": {},
   "outputs": [
    {
     "data": {
      "text/plain": [
       "{'i': 0,\n",
       " 'love': 1,\n",
       " 'india': 2,\n",
       " 'country': 3,\n",
       " 'machine': 4,\n",
       " 'learnt': 5,\n",
       " 'learning': 6,\n",
       " 'a': 7,\n",
       " 'teacher': 8,\n",
       " 'my': 9,\n",
       " 'am': 10}"
      ]
     },
     "execution_count": 66,
     "metadata": {},
     "output_type": "execute_result"
    }
   ],
   "source": [
    "word_to_index  "
   ]
  },
  {
   "cell_type": "code",
   "execution_count": 67,
   "metadata": {},
   "outputs": [
    {
     "data": {
      "text/plain": [
       "['i',\n",
       " 'love',\n",
       " 'india',\n",
       " 'country',\n",
       " 'machine',\n",
       " 'learnt',\n",
       " 'learning',\n",
       " 'a',\n",
       " 'teacher',\n",
       " 'my',\n",
       " 'am']"
      ]
     },
     "execution_count": 67,
     "metadata": {},
     "output_type": "execute_result"
    }
   ],
   "source": [
    "unique_words  # able to find indexes of unique words"
   ]
  },
  {
   "cell_type": "code",
   "execution_count": 68,
   "metadata": {},
   "outputs": [
    {
     "data": {
      "text/plain": [
       "['i love india',\n",
       " 'i learnt machine learning',\n",
       " 'i am a teacher',\n",
       " 'i love my country']"
      ]
     },
     "execution_count": 68,
     "metadata": {},
     "output_type": "execute_result"
    }
   ],
   "source": [
    "corpus"
   ]
  },
  {
   "cell_type": "code",
   "execution_count": 69,
   "metadata": {},
   "outputs": [
    {
     "name": "stdout",
     "output_type": "stream",
     "text": [
      "i love india\n",
      "['*', '*', '*', '*', '*', '*', '*', '*', '*', '*', '*']\n",
      "0\n",
      "['*', '*', '*', '*', '*', '*', '*', '*', '*', '*', '*']\n",
      "1\n",
      "['*', '*', '*', '*', '*', '*', '*', '*', '*', '*', '*']\n",
      "2\n",
      "i learnt machine learning\n",
      "['*', '*', '*', '*', '*', '*', '*', '*', '*', '*', '*']\n",
      "0\n",
      "['*', '*', '*', '*', '*', '*', '*', '*', '*', '*', '*']\n",
      "5\n",
      "['*', '*', '*', '*', '*', '*', '*', '*', '*', '*', '*']\n",
      "4\n",
      "['*', '*', '*', '*', '*', '*', '*', '*', '*', '*', '*']\n",
      "6\n",
      "i am a teacher\n",
      "['*', '*', '*', '*', '*', '*', '*', '*', '*', '*', '*']\n",
      "0\n",
      "['*', '*', '*', '*', '*', '*', '*', '*', '*', '*', '*']\n",
      "10\n",
      "['*', '*', '*', '*', '*', '*', '*', '*', '*', '*', '*']\n",
      "7\n",
      "['*', '*', '*', '*', '*', '*', '*', '*', '*', '*', '*']\n",
      "8\n",
      "i love my country\n",
      "['*', '*', '*', '*', '*', '*', '*', '*', '*', '*', '*']\n",
      "0\n",
      "['*', '*', '*', '*', '*', '*', '*', '*', '*', '*', '*']\n",
      "1\n",
      "['*', '*', '*', '*', '*', '*', '*', '*', '*', '*', '*']\n",
      "9\n",
      "['*', '*', '*', '*', '*', '*', '*', '*', '*', '*', '*']\n",
      "3\n"
     ]
    }
   ],
   "source": [
    "one_hot_vector = [] \n",
    "\n",
    "for sentence  in corpus:\n",
    "    print(sentence)\n",
    "    sentence_vector = []\n",
    "    for word in sentence.split():\n",
    "        vector = [\"*\"] * len(unique_words)  # [*] is a vector ['*', '*'] multipiled with len(unique_words)\n",
    "        print(vector)\n",
    "        vector[word_to_index[word]] = 1  # replacing word_to_index[word] with 1\n",
    "        print(word_to_index[word])\n",
    "        sentence_vector.append(vector)  # appending one hot vector to sentence vector\n",
    "    one_hot_vector.append(sentence_vector)  # appending it to all 3 corpus\n"
   ]
  },
  {
   "cell_type": "code",
   "execution_count": 70,
   "metadata": {},
   "outputs": [
    {
     "data": {
      "text/plain": [
       "[[[1, '*', '*', '*', '*', '*', '*', '*', '*', '*', '*'],\n",
       "  ['*', 1, '*', '*', '*', '*', '*', '*', '*', '*', '*'],\n",
       "  ['*', '*', 1, '*', '*', '*', '*', '*', '*', '*', '*']],\n",
       " [[1, '*', '*', '*', '*', '*', '*', '*', '*', '*', '*'],\n",
       "  ['*', '*', '*', '*', '*', 1, '*', '*', '*', '*', '*'],\n",
       "  ['*', '*', '*', '*', 1, '*', '*', '*', '*', '*', '*'],\n",
       "  ['*', '*', '*', '*', '*', '*', 1, '*', '*', '*', '*']],\n",
       " [[1, '*', '*', '*', '*', '*', '*', '*', '*', '*', '*'],\n",
       "  ['*', '*', '*', '*', '*', '*', '*', '*', '*', '*', 1],\n",
       "  ['*', '*', '*', '*', '*', '*', '*', 1, '*', '*', '*'],\n",
       "  ['*', '*', '*', '*', '*', '*', '*', '*', 1, '*', '*']],\n",
       " [[1, '*', '*', '*', '*', '*', '*', '*', '*', '*', '*'],\n",
       "  ['*', 1, '*', '*', '*', '*', '*', '*', '*', '*', '*'],\n",
       "  ['*', '*', '*', '*', '*', '*', '*', '*', '*', 1, '*'],\n",
       "  ['*', '*', '*', 1, '*', '*', '*', '*', '*', '*', '*']]]"
      ]
     },
     "execution_count": 70,
     "metadata": {},
     "output_type": "execute_result"
    }
   ],
   "source": [
    "#setting * if data is not avaialbe and 1 if data is available\n",
    "one_hot_vector"
   ]
  },
  {
   "cell_type": "code",
   "execution_count": 71,
   "metadata": {},
   "outputs": [
    {
     "data": {
      "text/plain": [
       "[[1, '*', '*', '*', '*', '*', '*', '*', '*', '*', '*'],\n",
       " ['*', 1, '*', '*', '*', '*', '*', '*', '*', '*', '*'],\n",
       " ['*', '*', 1, '*', '*', '*', '*', '*', '*', '*', '*']]"
      ]
     },
     "execution_count": 71,
     "metadata": {},
     "output_type": "execute_result"
    }
   ],
   "source": [
    "one_hot_vector[0]  #['i love india',"
   ]
  },
  {
   "cell_type": "code",
   "execution_count": 72,
   "metadata": {},
   "outputs": [
    {
     "data": {
      "text/plain": [
       "[[1, '*', '*', '*', '*', '*', '*', '*', '*', '*', '*'],\n",
       " ['*', '*', '*', '*', '*', 1, '*', '*', '*', '*', '*'],\n",
       " ['*', '*', '*', '*', 1, '*', '*', '*', '*', '*', '*'],\n",
       " ['*', '*', '*', '*', '*', '*', 1, '*', '*', '*', '*']]"
      ]
     },
     "execution_count": 72,
     "metadata": {},
     "output_type": "execute_result"
    }
   ],
   "source": [
    "one_hot_vector[1]  # 'i learnt machine learning'"
   ]
  },
  {
   "cell_type": "markdown",
   "metadata": {},
   "source": [
    "## Bag of words  (BoW converts text into a numerical representation)"
   ]
  },
  {
   "cell_type": "code",
   "execution_count": 73,
   "metadata": {},
   "outputs": [],
   "source": [
    "corpus_1 = ['I love india india india india', 'i learnt machine learning machine learning machine learning', 'i am a teacher', 'i love my country']"
   ]
  },
  {
   "cell_type": "code",
   "execution_count": 74,
   "metadata": {},
   "outputs": [],
   "source": [
    "from sklearn.feature_extraction.text import CountVectorizer\n"
   ]
  },
  {
   "cell_type": "code",
   "execution_count": 75,
   "metadata": {},
   "outputs": [],
   "source": [
    "vectorizer = CountVectorizer()"
   ]
  },
  {
   "cell_type": "code",
   "execution_count": 76,
   "metadata": {},
   "outputs": [
    {
     "data": {
      "text/plain": [
       "<4x9 sparse matrix of type '<class 'numpy.int64'>'\n",
       "\twith 10 stored elements in Compressed Sparse Row format>"
      ]
     },
     "execution_count": 76,
     "metadata": {},
     "output_type": "execute_result"
    }
   ],
   "source": [
    "vectorizer.fit_transform(corpus_1)\n"
   ]
  },
  {
   "cell_type": "code",
   "execution_count": 77,
   "metadata": {},
   "outputs": [],
   "source": [
    "X = vectorizer.fit_transform(corpus_1)\n"
   ]
  },
  {
   "cell_type": "code",
   "execution_count": 78,
   "metadata": {},
   "outputs": [
    {
     "data": {
      "text/plain": [
       "array([[0, 0, 4, 0, 0, 1, 0, 0, 0],\n",
       "       [0, 0, 0, 3, 1, 0, 3, 0, 0],\n",
       "       [1, 0, 0, 0, 0, 0, 0, 0, 1],\n",
       "       [0, 1, 0, 0, 0, 1, 0, 1, 0]])"
      ]
     },
     "execution_count": 78,
     "metadata": {},
     "output_type": "execute_result"
    }
   ],
   "source": [
    "X.toarray()"
   ]
  },
  {
   "cell_type": "code",
   "execution_count": 79,
   "metadata": {},
   "outputs": [
    {
     "data": {
      "text/plain": [
       "array(['am', 'country', 'india', 'learning', 'learnt', 'love', 'machine',\n",
       "       'my', 'teacher'], dtype=object)"
      ]
     },
     "execution_count": 79,
     "metadata": {},
     "output_type": "execute_result"
    }
   ],
   "source": [
    "vectorizer.get_feature_names_out() "
   ]
  },
  {
   "cell_type": "code",
   "execution_count": 80,
   "metadata": {},
   "outputs": [],
   "source": [
    "vectorizer = CountVectorizer(stop_words = None, lowercase = False, vocabulary = unique_words)"
   ]
  },
  {
   "cell_type": "code",
   "execution_count": 81,
   "metadata": {},
   "outputs": [
    {
     "data": {
      "text/plain": [
       "array(['i', 'love', 'india', 'country', 'machine', 'learnt', 'learning',\n",
       "       'a', 'teacher', 'my', 'am'], dtype=object)"
      ]
     },
     "execution_count": 81,
     "metadata": {},
     "output_type": "execute_result"
    }
   ],
   "source": [
    "vectorizer.get_feature_names_out()"
   ]
  },
  {
   "cell_type": "markdown",
   "metadata": {},
   "source": [
    "## TF-IDF (Term Frequency - inverse Document frequency)  is to weight the importance of words in a document\n",
    "\n",
    "Term Frequency (TF): The frequency of the word in the document.\n",
    "Inverse Document Frequency (IDF): The rarity of the word across all documents.\n"
   ]
  },
  {
   "cell_type": "code",
   "execution_count": 82,
   "metadata": {},
   "outputs": [
    {
     "data": {
      "text/plain": [
       "['I love india india india india',\n",
       " 'i learnt machine learning machine learning machine learning',\n",
       " 'i am a teacher',\n",
       " 'i love my country']"
      ]
     },
     "execution_count": 82,
     "metadata": {},
     "output_type": "execute_result"
    }
   ],
   "source": [
    "corpus_1"
   ]
  },
  {
   "cell_type": "code",
   "execution_count": 83,
   "metadata": {},
   "outputs": [],
   "source": [
    "from sklearn.feature_extraction.text import TfidfVectorizer"
   ]
  },
  {
   "cell_type": "code",
   "execution_count": 86,
   "metadata": {},
   "outputs": [],
   "source": [
    "vect_tfidf = TfidfVectorizer()"
   ]
  },
  {
   "cell_type": "code",
   "execution_count": 87,
   "metadata": {},
   "outputs": [
    {
     "data": {
      "text/plain": [
       "<4x9 sparse matrix of type '<class 'numpy.float64'>'\n",
       "\twith 10 stored elements in Compressed Sparse Row format>"
      ]
     },
     "execution_count": 87,
     "metadata": {},
     "output_type": "execute_result"
    }
   ],
   "source": [
    "vect_tfidf.fit_transform(corpus_1)"
   ]
  },
  {
   "cell_type": "code",
   "execution_count": 88,
   "metadata": {},
   "outputs": [],
   "source": [
    "x = vect_tfidf.fit_transform(corpus_1)"
   ]
  },
  {
   "cell_type": "code",
   "execution_count": 89,
   "metadata": {},
   "outputs": [
    {
     "data": {
      "text/plain": [
       "array([[0.        , 0.        , 0.98112349, 0.        , 0.        ,\n",
       "        0.19338226, 0.        , 0.        , 0.        ],\n",
       "       [0.        , 0.        , 0.        , 0.6882472 , 0.22941573,\n",
       "        0.        , 0.6882472 , 0.        , 0.        ],\n",
       "       [0.70710678, 0.        , 0.        , 0.        , 0.        ,\n",
       "        0.        , 0.        , 0.        , 0.70710678],\n",
       "       [0.        , 0.61761437, 0.        , 0.        , 0.        ,\n",
       "        0.48693426, 0.        , 0.61761437, 0.        ]])"
      ]
     },
     "execution_count": 89,
     "metadata": {},
     "output_type": "execute_result"
    }
   ],
   "source": [
    "x.toarray()"
   ]
  },
  {
   "cell_type": "code",
   "execution_count": null,
   "metadata": {},
   "outputs": [],
   "source": []
  },
  {
   "cell_type": "code",
   "execution_count": null,
   "metadata": {},
   "outputs": [],
   "source": []
  },
  {
   "cell_type": "code",
   "execution_count": null,
   "metadata": {},
   "outputs": [],
   "source": []
  },
  {
   "cell_type": "code",
   "execution_count": null,
   "metadata": {},
   "outputs": [],
   "source": []
  }
 ],
 "metadata": {
  "kernelspec": {
   "display_name": ".conda",
   "language": "python",
   "name": "python3"
  },
  "language_info": {
   "codemirror_mode": {
    "name": "ipython",
    "version": 3
   },
   "file_extension": ".py",
   "mimetype": "text/x-python",
   "name": "python",
   "nbconvert_exporter": "python",
   "pygments_lexer": "ipython3",
   "version": "3.8.20"
  }
 },
 "nbformat": 4,
 "nbformat_minor": 2
}
