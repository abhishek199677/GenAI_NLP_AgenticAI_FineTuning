{
 "cells": [
  {
   "cell_type": "code",
   "execution_count": 17,
   "metadata": {},
   "outputs": [],
   "source": [
    "corpus = [\"i love india\", \"i learnt machine learning\", \"i am a teacher\", \"i love my country\"]"
   ]
  },
  {
   "cell_type": "code",
   "execution_count": 18,
   "metadata": {},
   "outputs": [
    {
     "data": {
      "text/plain": [
       "'i love india i learnt machine learning i am a teacher i love my country'"
      ]
     },
     "execution_count": 18,
     "metadata": {},
     "output_type": "execute_result"
    }
   ],
   "source": [
    "\" \".join(corpus)  # concatenation of strings"
   ]
  },
  {
   "cell_type": "code",
   "execution_count": 19,
   "metadata": {},
   "outputs": [
    {
     "data": {
      "text/plain": [
       "['i',\n",
       " 'love',\n",
       " 'india',\n",
       " 'i',\n",
       " 'learnt',\n",
       " 'machine',\n",
       " 'learning',\n",
       " 'i',\n",
       " 'am',\n",
       " 'a',\n",
       " 'teacher',\n",
       " 'i',\n",
       " 'love',\n",
       " 'my',\n",
       " 'country']"
      ]
     },
     "execution_count": 19,
     "metadata": {},
     "output_type": "execute_result"
    }
   ],
   "source": [
    "\" \".join(corpus).split()  # splitting of strings"
   ]
  },
  {
   "cell_type": "code",
   "execution_count": 20,
   "metadata": {},
   "outputs": [
    {
     "data": {
      "text/plain": [
       "{'a',\n",
       " 'am',\n",
       " 'country',\n",
       " 'i',\n",
       " 'india',\n",
       " 'learning',\n",
       " 'learnt',\n",
       " 'love',\n",
       " 'machine',\n",
       " 'my',\n",
       " 'teacher'}"
      ]
     },
     "execution_count": 20,
     "metadata": {},
     "output_type": "execute_result"
    }
   ],
   "source": [
    "set(\" \".join(corpus).split())  # removing duplicates and trying to extract unique words"
   ]
  },
  {
   "cell_type": "code",
   "execution_count": 21,
   "metadata": {},
   "outputs": [],
   "source": [
    "unique_words = list(set(\" \".join(corpus).split()))   # converting set to list  "
   ]
  },
  {
   "cell_type": "code",
   "execution_count": 22,
   "metadata": {},
   "outputs": [
    {
     "data": {
      "text/plain": [
       "['a',\n",
       " 'country',\n",
       " 'am',\n",
       " 'teacher',\n",
       " 'my',\n",
       " 'i',\n",
       " 'machine',\n",
       " 'learnt',\n",
       " 'love',\n",
       " 'india',\n",
       " 'learning']"
      ]
     },
     "execution_count": 22,
     "metadata": {},
     "output_type": "execute_result"
    }
   ],
   "source": [
    "unique_words"
   ]
  },
  {
   "cell_type": "code",
   "execution_count": 23,
   "metadata": {},
   "outputs": [
    {
     "name": "stdout",
     "output_type": "stream",
     "text": [
      "(0, 'a')\n",
      "(1, 'country')\n",
      "(2, 'am')\n",
      "(3, 'teacher')\n",
      "(4, 'my')\n",
      "(5, 'i')\n",
      "(6, 'machine')\n",
      "(7, 'learnt')\n",
      "(8, 'love')\n",
      "(9, 'india')\n",
      "(10, 'learning')\n"
     ]
    }
   ],
   "source": [
    "#enumeration is used for getting index of unique words \n",
    "for i in enumerate(unique_words):  # enumeration of unique words and their index\n",
    "    print(i)"
   ]
  },
  {
   "cell_type": "code",
   "execution_count": 24,
   "metadata": {},
   "outputs": [],
   "source": [
    "word_to_index = {j:i for i, j in enumerate(unique_words)}  # converting enumeration to dictionary"
   ]
  },
  {
   "cell_type": "code",
   "execution_count": 25,
   "metadata": {},
   "outputs": [
    {
     "data": {
      "text/plain": [
       "{'a': 0,\n",
       " 'country': 1,\n",
       " 'am': 2,\n",
       " 'teacher': 3,\n",
       " 'my': 4,\n",
       " 'i': 5,\n",
       " 'machine': 6,\n",
       " 'learnt': 7,\n",
       " 'love': 8,\n",
       " 'india': 9,\n",
       " 'learning': 10}"
      ]
     },
     "execution_count": 25,
     "metadata": {},
     "output_type": "execute_result"
    }
   ],
   "source": [
    "word_to_index  "
   ]
  },
  {
   "cell_type": "code",
   "execution_count": 26,
   "metadata": {},
   "outputs": [
    {
     "data": {
      "text/plain": [
       "['a',\n",
       " 'country',\n",
       " 'am',\n",
       " 'teacher',\n",
       " 'my',\n",
       " 'i',\n",
       " 'machine',\n",
       " 'learnt',\n",
       " 'love',\n",
       " 'india',\n",
       " 'learning']"
      ]
     },
     "execution_count": 26,
     "metadata": {},
     "output_type": "execute_result"
    }
   ],
   "source": [
    "unique_words  # able to find indexes of unique words"
   ]
  },
  {
   "cell_type": "code",
   "execution_count": 27,
   "metadata": {},
   "outputs": [
    {
     "data": {
      "text/plain": [
       "['i love india',\n",
       " 'i learnt machine learning',\n",
       " 'i am a teacher',\n",
       " 'i love my country']"
      ]
     },
     "execution_count": 27,
     "metadata": {},
     "output_type": "execute_result"
    }
   ],
   "source": [
    "corpus"
   ]
  },
  {
   "cell_type": "code",
   "execution_count": 28,
   "metadata": {},
   "outputs": [
    {
     "name": "stdout",
     "output_type": "stream",
     "text": [
      "i love india\n",
      "['*', '*', '*', '*', '*', '*', '*', '*', '*', '*', '*']\n",
      "5\n",
      "['*', '*', '*', '*', '*', '*', '*', '*', '*', '*', '*']\n",
      "8\n",
      "['*', '*', '*', '*', '*', '*', '*', '*', '*', '*', '*']\n",
      "9\n",
      "i learnt machine learning\n",
      "['*', '*', '*', '*', '*', '*', '*', '*', '*', '*', '*']\n",
      "5\n",
      "['*', '*', '*', '*', '*', '*', '*', '*', '*', '*', '*']\n",
      "7\n",
      "['*', '*', '*', '*', '*', '*', '*', '*', '*', '*', '*']\n",
      "6\n",
      "['*', '*', '*', '*', '*', '*', '*', '*', '*', '*', '*']\n",
      "10\n",
      "i am a teacher\n",
      "['*', '*', '*', '*', '*', '*', '*', '*', '*', '*', '*']\n",
      "5\n",
      "['*', '*', '*', '*', '*', '*', '*', '*', '*', '*', '*']\n",
      "2\n",
      "['*', '*', '*', '*', '*', '*', '*', '*', '*', '*', '*']\n",
      "0\n",
      "['*', '*', '*', '*', '*', '*', '*', '*', '*', '*', '*']\n",
      "3\n",
      "i love my country\n",
      "['*', '*', '*', '*', '*', '*', '*', '*', '*', '*', '*']\n",
      "5\n",
      "['*', '*', '*', '*', '*', '*', '*', '*', '*', '*', '*']\n",
      "8\n",
      "['*', '*', '*', '*', '*', '*', '*', '*', '*', '*', '*']\n",
      "4\n",
      "['*', '*', '*', '*', '*', '*', '*', '*', '*', '*', '*']\n",
      "1\n"
     ]
    }
   ],
   "source": [
    "one_hot_vector = [] \n",
    "\n",
    "for sentence  in corpus:\n",
    "    print(sentence)\n",
    "    sentence_vector = []\n",
    "    for word in sentence.split():\n",
    "        vector = [\"*\"] * len(unique_words)  # [*] is a vector ['*', '*'] multipiled with len(unique_words)\n",
    "        print(vector)\n",
    "        vector[word_to_index[word]] = 1  # replacing word_to_index[word] with 1\n",
    "        print(word_to_index[word])\n",
    "        sentence_vector.append(vector)  # appending one hot vector to sentence vector\n",
    "    one_hot_vector.append(sentence_vector)  # appending it to all 3 corpus\n"
   ]
  },
  {
   "cell_type": "code",
   "execution_count": 29,
   "metadata": {},
   "outputs": [
    {
     "data": {
      "text/plain": [
       "[[['*', '*', '*', '*', '*', 1, '*', '*', '*', '*', '*'],\n",
       "  ['*', '*', '*', '*', '*', '*', '*', '*', 1, '*', '*'],\n",
       "  ['*', '*', '*', '*', '*', '*', '*', '*', '*', 1, '*']],\n",
       " [['*', '*', '*', '*', '*', 1, '*', '*', '*', '*', '*'],\n",
       "  ['*', '*', '*', '*', '*', '*', '*', 1, '*', '*', '*'],\n",
       "  ['*', '*', '*', '*', '*', '*', 1, '*', '*', '*', '*'],\n",
       "  ['*', '*', '*', '*', '*', '*', '*', '*', '*', '*', 1]],\n",
       " [['*', '*', '*', '*', '*', 1, '*', '*', '*', '*', '*'],\n",
       "  ['*', '*', 1, '*', '*', '*', '*', '*', '*', '*', '*'],\n",
       "  [1, '*', '*', '*', '*', '*', '*', '*', '*', '*', '*'],\n",
       "  ['*', '*', '*', 1, '*', '*', '*', '*', '*', '*', '*']],\n",
       " [['*', '*', '*', '*', '*', 1, '*', '*', '*', '*', '*'],\n",
       "  ['*', '*', '*', '*', '*', '*', '*', '*', 1, '*', '*'],\n",
       "  ['*', '*', '*', '*', 1, '*', '*', '*', '*', '*', '*'],\n",
       "  ['*', 1, '*', '*', '*', '*', '*', '*', '*', '*', '*']]]"
      ]
     },
     "execution_count": 29,
     "metadata": {},
     "output_type": "execute_result"
    }
   ],
   "source": [
    "#setting * if data is not avaialbe and 1 if data is available\n",
    "one_hot_vector"
   ]
  },
  {
   "cell_type": "code",
   "execution_count": 30,
   "metadata": {},
   "outputs": [
    {
     "data": {
      "text/plain": [
       "[['*', '*', '*', '*', '*', 1, '*', '*', '*', '*', '*'],\n",
       " ['*', '*', '*', '*', '*', '*', '*', '*', 1, '*', '*'],\n",
       " ['*', '*', '*', '*', '*', '*', '*', '*', '*', 1, '*']]"
      ]
     },
     "execution_count": 30,
     "metadata": {},
     "output_type": "execute_result"
    }
   ],
   "source": [
    "one_hot_vector[0]  #['i love india',"
   ]
  },
  {
   "cell_type": "code",
   "execution_count": 31,
   "metadata": {},
   "outputs": [
    {
     "data": {
      "text/plain": [
       "[['*', '*', '*', '*', '*', 1, '*', '*', '*', '*', '*'],\n",
       " ['*', '*', '*', '*', '*', '*', '*', 1, '*', '*', '*'],\n",
       " ['*', '*', '*', '*', '*', '*', 1, '*', '*', '*', '*'],\n",
       " ['*', '*', '*', '*', '*', '*', '*', '*', '*', '*', 1]]"
      ]
     },
     "execution_count": 31,
     "metadata": {},
     "output_type": "execute_result"
    }
   ],
   "source": [
    "one_hot_vector[1]  # 'i learnt machine learning'"
   ]
  },
  {
   "cell_type": "markdown",
   "metadata": {},
   "source": [
    "### Bag of words"
   ]
  },
  {
   "cell_type": "code",
   "execution_count": 32,
   "metadata": {},
   "outputs": [
    {
     "ename": "ModuleNotFoundError",
     "evalue": "No module named 'sklearn'",
     "output_type": "error",
     "traceback": [
      "\u001b[0;31m---------------------------------------------------------------------------\u001b[0m",
      "\u001b[0;31mModuleNotFoundError\u001b[0m                       Traceback (most recent call last)",
      "Cell \u001b[0;32mIn[32], line 1\u001b[0m\n\u001b[0;32m----> 1\u001b[0m \u001b[38;5;28;01mfrom\u001b[39;00m \u001b[38;5;21;01msklearn\u001b[39;00m\u001b[38;5;21;01m.\u001b[39;00m\u001b[38;5;21;01mfeature_extraction\u001b[39;00m \u001b[38;5;28;01mimport\u001b[39;00m CountVectorizer\n",
      "\u001b[0;31mModuleNotFoundError\u001b[0m: No module named 'sklearn'"
     ]
    }
   ],
   "source": [
    "from sklearn.feature_extraction import CountVectorizer"
   ]
  },
  {
   "cell_type": "code",
   "execution_count": null,
   "metadata": {},
   "outputs": [],
   "source": [
    "vectorizer = CountVectorizer()"
   ]
  },
  {
   "cell_type": "code",
   "execution_count": null,
   "metadata": {},
   "outputs": [],
   "source": [
    "corpus = [\"i love india\", \"i learnt machine learning\", \"i am a teacher\", \"i love my country\"]"
   ]
  },
  {
   "cell_type": "code",
   "execution_count": null,
   "metadata": {},
   "outputs": [],
   "source": [
    "X = vectorizer.fit_transform(corpus)\n"
   ]
  },
  {
   "cell_type": "code",
   "execution_count": null,
   "metadata": {},
   "outputs": [],
   "source": [
    "X.toarray()"
   ]
  },
  {
   "cell_type": "code",
   "execution_count": null,
   "metadata": {},
   "outputs": [],
   "source": [
    "vectorizer.get_feature_names_out() "
   ]
  },
  {
   "cell_type": "code",
   "execution_count": null,
   "metadata": {},
   "outputs": [],
   "source": [
    "vectorizer = CountVectorizer(stop_words = None, lowercase = False, vocabulary = unique_words)"
   ]
  },
  {
   "cell_type": "code",
   "execution_count": null,
   "metadata": {},
   "outputs": [],
   "source": [
    "vectorizer.get_feature_names_out() "
   ]
  }
 ],
 "metadata": {
  "kernelspec": {
   "display_name": ".conda",
   "language": "python",
   "name": "python3"
  },
  "language_info": {
   "codemirror_mode": {
    "name": "ipython",
    "version": 3
   },
   "file_extension": ".py",
   "mimetype": "text/x-python",
   "name": "python",
   "nbconvert_exporter": "python",
   "pygments_lexer": "ipython3",
   "version": "3.8.20"
  }
 },
 "nbformat": 4,
 "nbformat_minor": 2
}
