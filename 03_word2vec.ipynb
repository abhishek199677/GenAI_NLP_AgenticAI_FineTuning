{
 "cells": [
  {
   "cell_type": "code",
   "execution_count": 275,
   "metadata": {},
   "outputs": [],
   "source": [
    "import nltk \n",
    "import gensim\n",
    "import string\n",
    "import matplotlib.pyplot as plt\n",
    "from gensim.models import word2vec\n",
    "from nltk.tokenize import word_tokenize\n",
    "from nltk.corpus import stopwords\n",
    "import numpy as np\n",
    "import re"
   ]
  },
  {
   "cell_type": "code",
   "execution_count": 276,
   "metadata": {},
   "outputs": [
    {
     "name": "stderr",
     "output_type": "stream",
     "text": [
      "[nltk_data] Downloading package punkt to /Users/macbook/nltk_data...\n",
      "[nltk_data]   Package punkt is already up-to-date!\n",
      "[nltk_data] Downloading package stopwords to\n",
      "[nltk_data]     /Users/macbook/nltk_data...\n",
      "[nltk_data]   Package stopwords is already up-to-date!\n"
     ]
    },
    {
     "data": {
      "text/plain": [
       "True"
      ]
     },
     "execution_count": 276,
     "metadata": {},
     "output_type": "execute_result"
    }
   ],
   "source": [
    "nltk.download('punkt')\n",
    "nltk.download('stopwords')"
   ]
  },
  {
   "cell_type": "markdown",
   "metadata": {},
   "source": [
    "## Data processing\n",
    "\n",
    "#### 1) Lowercase conversion\n",
    "#### 2) Removing numerical data\n",
    "#### 3) Removing Punctuations\n",
    "#### 4) Tokenizing Data\n",
    "#### 5) Remove Stopwords\n"
   ]
  },
  {
   "cell_type": "code",
   "execution_count": 277,
   "metadata": {},
   "outputs": [],
   "source": [
    "corpus = [\n",
    "    'my name is Abhishek.',\n",
    "    'I love to play basketball 1007 !!!',\n",
    "    'He is a good player 4567@,',\n",
    "    'The basketball game  $#%^&*008 is a huge event.',\n",
    "    'my phone number is 8768@@2987',\n",
    "    'Michael Jordan is considered one of the greatest basketball players of all time.',\n",
    "    \"I bought a new basketball yesterday and can't wait to try it out.\",\n",
    "    'The referee blew the whistle to signal the end of the game.',\n",
    "    'Our team won the match by scoring a three-pointer in the last second!',\n",
    "    'She practices dribbling every morning to improve her ball control.',\n",
    "    'Basketball requires both physical fitness and mental focus to excel.',\n",
    "    'The fans cheered loudly as their favorite player dunked the ball.',\n",
    "    'I joined a basketball league to compete with other skilled players.',\n",
    "    'He wore his lucky jersey during the finals and played exceptionally well.',\n",
    "    'Learning defensive techniques has helped me become a stronger player.',\n",
    "    'The coach gave us tips on how to improve our passing accuracy.',\n",
    "    'Watching basketball tutorials online has helped me understand the game better.',\n",
    "    'The court was slippery after the rain, but we still managed to play safely.',\n",
    "    'My dream is to play professional basketball and represent my country.',\n",
    "    'She scored 20 points in the game and was named MVP of the tournament!',\n",
    "\n",
    "    \n",
    "]"
   ]
  },
  {
   "cell_type": "code",
   "execution_count": 278,
   "metadata": {},
   "outputs": [],
   "source": [
    "#cleaning the above sample dataset\n",
    "\n",
    "s = \"i play KEYBOrd 987656,!@#\""
   ]
  },
  {
   "cell_type": "code",
   "execution_count": 279,
   "metadata": {},
   "outputs": [
    {
     "data": {
      "text/plain": [
       "'i play keybord 987656,!@#'"
      ]
     },
     "execution_count": 279,
     "metadata": {},
     "output_type": "execute_result"
    }
   ],
   "source": [
    "s.lower()   # this converts to lower case"
   ]
  },
  {
   "cell_type": "code",
   "execution_count": 280,
   "metadata": {},
   "outputs": [
    {
     "data": {
      "text/plain": [
       "'i play KEYBOrd ,!@#'"
      ]
     },
     "execution_count": 280,
     "metadata": {},
     "output_type": "execute_result"
    }
   ],
   "source": [
    "re.sub(r'\\d+', \"\", s)  # this removes number"
   ]
  },
  {
   "cell_type": "code",
   "execution_count": 281,
   "metadata": {},
   "outputs": [
    {
     "data": {
      "text/plain": [
       "'!\"#$%&\\'()*+,-./:;<=>?@[\\\\]^_`{|}~'"
      ]
     },
     "execution_count": 281,
     "metadata": {},
     "output_type": "execute_result"
    }
   ],
   "source": [
    "string.punctuation  # removes punctuations"
   ]
  },
  {
   "cell_type": "code",
   "execution_count": 282,
   "metadata": {},
   "outputs": [
    {
     "data": {
      "text/plain": [
       "'i play KEYBOrd 987656'"
      ]
     },
     "execution_count": 282,
     "metadata": {},
     "output_type": "execute_result"
    }
   ],
   "source": [
    "s.translate(str.maketrans('', '', string.punctuation))   # this removes punctuations"
   ]
  },
  {
   "cell_type": "code",
   "execution_count": 283,
   "metadata": {},
   "outputs": [
    {
     "data": {
      "text/plain": [
       "['i', 'play', 'KEYBOrd', '987656', ',', '!', '@', '#']"
      ]
     },
     "execution_count": 283,
     "metadata": {},
     "output_type": "execute_result"
    }
   ],
   "source": [
    "word_tokenize(s)   # this tokenizes the sentence into words"
   ]
  },
  {
   "cell_type": "code",
   "execution_count": 284,
   "metadata": {},
   "outputs": [],
   "source": [
    "s1 = word_tokenize(s)   # this tokenizes the sentence into words\n",
    "\n"
   ]
  },
  {
   "cell_type": "code",
   "execution_count": 285,
   "metadata": {},
   "outputs": [
    {
     "data": {
      "text/plain": [
       "['play', 'KEYBOrd', '987656', ',', '!', '@', '#']"
      ]
     },
     "execution_count": 285,
     "metadata": {},
     "output_type": "execute_result"
    }
   ],
   "source": [
    "[i for i in s1 if i not in stopwords.words('english')]  # this removes stopwords"
   ]
  },
  {
   "cell_type": "code",
   "execution_count": 286,
   "metadata": {},
   "outputs": [],
   "source": [
    "# function for preporocessing using the above steps\n",
    "\n",
    "\n",
    "def word_preporocessing(text):\n",
    "    # Convert text to lowercase\n",
    "    text = text.lower()\n",
    "    \n",
    "    # Remove digits\n",
    "    text = re.sub(r'\\d+', \"\", text)\n",
    "    \n",
    "    # Remove punctuation\n",
    "    text = text.translate(str.maketrans('', '', string.punctuation))\n",
    "    \n",
    "    # Tokenize the text into words\n",
    "    word = word_tokenize(text)\n",
    "    \n",
    "    # Remove stopwords from tokenized words\n",
    "    word = [i for i in word if i not in stopwords.words('english')]\n",
    "    \n",
    "    return word"
   ]
  },
  {
   "cell_type": "code",
   "execution_count": 287,
   "metadata": {},
   "outputs": [
    {
     "data": {
      "text/plain": [
       "[['name', 'abhishek'],\n",
       " ['love', 'play', 'basketball'],\n",
       " ['good', 'player'],\n",
       " ['basketball', 'game', 'huge', 'event'],\n",
       " ['phone', 'number'],\n",
       " ['michael',\n",
       "  'jordan',\n",
       "  'considered',\n",
       "  'one',\n",
       "  'greatest',\n",
       "  'basketball',\n",
       "  'players',\n",
       "  'time'],\n",
       " ['bought', 'new', 'basketball', 'yesterday', 'cant', 'wait', 'try'],\n",
       " ['referee', 'blew', 'whistle', 'signal', 'end', 'game'],\n",
       " ['team', 'match', 'scoring', 'threepointer', 'last', 'second'],\n",
       " ['practices', 'dribbling', 'every', 'morning', 'improve', 'ball', 'control'],\n",
       " ['basketball', 'requires', 'physical', 'fitness', 'mental', 'focus', 'excel'],\n",
       " ['fans', 'cheered', 'loudly', 'favorite', 'player', 'dunked', 'ball'],\n",
       " ['joined', 'basketball', 'league', 'compete', 'skilled', 'players'],\n",
       " ['wore', 'lucky', 'jersey', 'finals', 'played', 'exceptionally', 'well'],\n",
       " ['learning',\n",
       "  'defensive',\n",
       "  'techniques',\n",
       "  'helped',\n",
       "  'become',\n",
       "  'stronger',\n",
       "  'player'],\n",
       " ['coach', 'gave', 'us', 'tips', 'improve', 'passing', 'accuracy'],\n",
       " ['watching',\n",
       "  'basketball',\n",
       "  'tutorials',\n",
       "  'online',\n",
       "  'helped',\n",
       "  'understand',\n",
       "  'game',\n",
       "  'better'],\n",
       " ['court', 'slippery', 'rain', 'still', 'managed', 'play', 'safely'],\n",
       " ['dream', 'play', 'professional', 'basketball', 'represent', 'country'],\n",
       " ['scored', 'points', 'game', 'named', 'mvp', 'tournament']]"
      ]
     },
     "execution_count": 287,
     "metadata": {},
     "output_type": "execute_result"
    }
   ],
   "source": [
    "preprocessed_corpus = [word_preporocessing(sentence) for sentence in corpus]\n",
    "preprocessed_corpus  # this data will be sent into the word2vec model\n"
   ]
  },
  {
   "cell_type": "code",
   "execution_count": 288,
   "metadata": {},
   "outputs": [
    {
     "data": {
      "text/plain": [
       "[['name', 'abhishek'],\n",
       " ['love', 'play', 'basketball'],\n",
       " ['good', 'player'],\n",
       " ['basketball', 'game', 'huge', 'event'],\n",
       " ['phone', 'number'],\n",
       " ['michael',\n",
       "  'jordan',\n",
       "  'considered',\n",
       "  'one',\n",
       "  'greatest',\n",
       "  'basketball',\n",
       "  'players',\n",
       "  'time'],\n",
       " ['bought', 'new', 'basketball', 'yesterday', 'cant', 'wait', 'try'],\n",
       " ['referee', 'blew', 'whistle', 'signal', 'end', 'game'],\n",
       " ['team', 'match', 'scoring', 'threepointer', 'last', 'second'],\n",
       " ['practices', 'dribbling', 'every', 'morning', 'improve', 'ball', 'control'],\n",
       " ['basketball', 'requires', 'physical', 'fitness', 'mental', 'focus', 'excel'],\n",
       " ['fans', 'cheered', 'loudly', 'favorite', 'player', 'dunked', 'ball'],\n",
       " ['joined', 'basketball', 'league', 'compete', 'skilled', 'players'],\n",
       " ['wore', 'lucky', 'jersey', 'finals', 'played', 'exceptionally', 'well'],\n",
       " ['learning',\n",
       "  'defensive',\n",
       "  'techniques',\n",
       "  'helped',\n",
       "  'become',\n",
       "  'stronger',\n",
       "  'player'],\n",
       " ['coach', 'gave', 'us', 'tips', 'improve', 'passing', 'accuracy'],\n",
       " ['watching',\n",
       "  'basketball',\n",
       "  'tutorials',\n",
       "  'online',\n",
       "  'helped',\n",
       "  'understand',\n",
       "  'game',\n",
       "  'better'],\n",
       " ['court', 'slippery', 'rain', 'still', 'managed', 'play', 'safely'],\n",
       " ['dream', 'play', 'professional', 'basketball', 'represent', 'country'],\n",
       " ['scored', 'points', 'game', 'named', 'mvp', 'tournament']]"
      ]
     },
     "execution_count": 288,
     "metadata": {},
     "output_type": "execute_result"
    }
   ],
   "source": [
    "preprocessed_corpus"
   ]
  },
  {
   "cell_type": "code",
   "execution_count": 289,
   "metadata": {},
   "outputs": [],
   "source": [
    "from gensim.models import Word2Vec"
   ]
  },
  {
   "cell_type": "code",
   "execution_count": 290,
   "metadata": {},
   "outputs": [],
   "source": [
    "word2vec_cbow = Word2Vec(sentences= preprocessed_corpus, vector_size=100, window=5, min_count=1, sg=0) # this is the CBOW model \n",
    "word2vec_skipgram = Word2Vec(sentences= preprocessed_corpus, vector_size=100, window=5, min_count=1, sg=1)  # this is the skipgram model \n"
   ]
  },
  {
   "cell_type": "code",
   "execution_count": 291,
   "metadata": {},
   "outputs": [
    {
     "data": {
      "text/plain": [
       "<gensim.models.word2vec.Word2Vec at 0x12a34d730>"
      ]
     },
     "execution_count": 291,
     "metadata": {},
     "output_type": "execute_result"
    }
   ],
   "source": [
    "word2vec_cbow  # this is the CBOW model"
   ]
  },
  {
   "cell_type": "code",
   "execution_count": 292,
   "metadata": {},
   "outputs": [
    {
     "data": {
      "text/plain": [
       "100"
      ]
     },
     "execution_count": 292,
     "metadata": {},
     "output_type": "execute_result"
    }
   ],
   "source": [
    "len(word2vec_cbow.wv['jordan'])"
   ]
  },
  {
   "cell_type": "code",
   "execution_count": 293,
   "metadata": {},
   "outputs": [
    {
     "data": {
      "text/plain": [
       "array([-4.2923908e-03, -9.3190055e-03, -1.8647051e-03, -3.7317255e-03,\n",
       "        9.1141537e-03,  2.9302058e-03, -5.9828297e-03, -3.3505415e-03,\n",
       "       -9.9011483e-03,  1.9320167e-03, -3.9933068e-03, -2.7203066e-03,\n",
       "        5.1804460e-03,  7.5971885e-03,  4.3973722e-03, -6.8276357e-03,\n",
       "        6.7022820e-03, -9.6434029e-03, -7.0010941e-03, -8.0292812e-03,\n",
       "       -2.2588859e-03,  4.8555096e-04, -3.7769664e-03,  1.8420089e-03,\n",
       "        9.2129298e-03,  6.6955499e-03, -1.0645875e-03,  9.0984935e-03,\n",
       "        1.5567287e-03, -1.9701887e-03, -6.5991287e-03,  6.4778007e-03,\n",
       "       -9.0706311e-03, -1.9079510e-03,  7.6880017e-03, -2.5738848e-03,\n",
       "        1.6023398e-03, -7.3546600e-03,  4.9868184e-03,  7.3620705e-03,\n",
       "       -9.3152719e-03, -3.2886667e-03,  7.8991372e-03,  2.9339462e-03,\n",
       "        1.6171522e-05,  3.3284756e-04, -9.8726582e-03,  9.9444492e-03,\n",
       "       -1.9968480e-03, -4.8812088e-03,  2.7480132e-03,  1.0219226e-03,\n",
       "       -5.9341588e-03,  5.7982136e-03, -2.5087800e-03, -6.1730235e-03,\n",
       "        7.2410284e-03,  6.4643789e-03,  8.8260407e-03,  1.1644727e-03,\n",
       "        5.2864116e-04, -7.9325093e-03,  4.6467739e-03,  9.3736574e-03,\n",
       "       -6.7974179e-04, -1.7461331e-03, -3.8112039e-03, -4.9088371e-04,\n",
       "       -7.6324600e-03,  5.7027629e-03,  1.4840361e-03,  9.3053011e-03,\n",
       "       -6.4197020e-03, -5.0864578e-03, -6.2291482e-03, -7.2697052e-03,\n",
       "        2.7470777e-03,  4.8889834e-03,  1.3336786e-03,  3.5387385e-03,\n",
       "       -9.3881814e-03, -1.0627965e-03, -7.7537359e-03,  2.9631711e-03,\n",
       "       -2.6762323e-03,  8.8909389e-03, -3.4243730e-03,  6.8501984e-03,\n",
       "        4.1164272e-03,  1.3618596e-03, -2.2956125e-05,  8.1817489e-03,\n",
       "        2.3672176e-03,  8.2567576e-03,  3.3399633e-03,  5.4262839e-03,\n",
       "        5.1094750e-03, -7.6470105e-03, -5.7957429e-03,  1.2199843e-03],\n",
       "      dtype=float32)"
      ]
     },
     "execution_count": 293,
     "metadata": {},
     "output_type": "execute_result"
    }
   ],
   "source": [
    "word2vec_cbow.wv['jordan']"
   ]
  },
  {
   "cell_type": "code",
   "execution_count": 294,
   "metadata": {},
   "outputs": [
    {
     "data": {
      "text/plain": [
       "<gensim.models.word2vec.Word2Vec at 0x12a343e80>"
      ]
     },
     "execution_count": 294,
     "metadata": {},
     "output_type": "execute_result"
    }
   ],
   "source": [
    "word2vec_skipgram  # this is the skipgram model"
   ]
  },
  {
   "cell_type": "code",
   "execution_count": 295,
   "metadata": {},
   "outputs": [
    {
     "data": {
      "text/plain": [
       "100"
      ]
     },
     "execution_count": 295,
     "metadata": {},
     "output_type": "execute_result"
    }
   ],
   "source": [
    "len(word2vec_skipgram.wv['jordan'])"
   ]
  },
  {
   "cell_type": "code",
   "execution_count": 296,
   "metadata": {},
   "outputs": [
    {
     "data": {
      "text/plain": [
       "array([-4.2717713e-03, -9.3441643e-03, -1.8389820e-03, -3.7416951e-03,\n",
       "        9.1227982e-03,  2.9433214e-03, -5.9536132e-03, -3.3486725e-03,\n",
       "       -9.9290004e-03,  1.9173182e-03, -4.0071257e-03, -2.7273563e-03,\n",
       "        5.1846867e-03,  7.5829797e-03,  4.4140704e-03, -6.8409368e-03,\n",
       "        6.7183906e-03, -9.6555660e-03, -7.0198043e-03, -8.0692302e-03,\n",
       "       -2.2778802e-03,  4.9119908e-04, -3.7624310e-03,  1.8021404e-03,\n",
       "        9.2273010e-03,  6.6972459e-03, -1.0666486e-03,  9.1070142e-03,\n",
       "        1.5192085e-03, -1.9864086e-03, -6.6036675e-03,  6.4878189e-03,\n",
       "       -9.0454910e-03, -1.9312713e-03,  7.6529984e-03, -2.5732245e-03,\n",
       "        1.5795762e-03, -7.3787984e-03,  4.9669049e-03,  7.3352121e-03,\n",
       "       -9.2990277e-03, -3.2742030e-03,  7.9011032e-03,  2.9365313e-03,\n",
       "        3.0168918e-05,  3.1178398e-04, -9.8902974e-03,  9.9207982e-03,\n",
       "       -2.0061801e-03, -4.8582274e-03,  2.7238724e-03,  1.0225697e-03,\n",
       "       -5.9585669e-03,  5.8007552e-03, -2.5197291e-03, -6.1893556e-03,\n",
       "        7.2377487e-03,  6.4832224e-03,  8.8373888e-03,  1.1655736e-03,\n",
       "        5.5044709e-04, -7.9495134e-03,  4.6601077e-03,  9.3891378e-03,\n",
       "       -6.9618807e-04, -1.7088230e-03, -3.8510470e-03, -4.8520017e-04,\n",
       "       -7.6638386e-03,  5.7010897e-03,  1.4487668e-03,  9.3525937e-03,\n",
       "       -6.4179101e-03, -5.0965808e-03, -6.2192497e-03, -7.3045436e-03,\n",
       "        2.7701880e-03,  4.8916489e-03,  1.3145588e-03,  3.5310900e-03,\n",
       "       -9.3923500e-03, -1.0452368e-03, -7.7992873e-03,  2.9963669e-03,\n",
       "       -2.6891103e-03,  8.8966787e-03, -3.4079589e-03,  6.8576634e-03,\n",
       "        4.0985374e-03,  1.3287647e-03, -2.7816002e-05,  8.1873555e-03,\n",
       "        2.3419107e-03,  8.2823811e-03,  3.3619851e-03,  5.4412135e-03,\n",
       "        5.0914921e-03, -7.6557798e-03, -5.7819979e-03,  1.1901208e-03],\n",
       "      dtype=float32)"
      ]
     },
     "execution_count": 296,
     "metadata": {},
     "output_type": "execute_result"
    }
   ],
   "source": [
    "word2vec_skipgram.wv['jordan']"
   ]
  },
  {
   "cell_type": "code",
   "execution_count": 297,
   "metadata": {},
   "outputs": [
    {
     "data": {
      "text/plain": [
       "array([ 0.00937922,  0.0073986 ,  0.00689814,  0.00608119,  0.00502518,\n",
       "       -0.0019566 ,  0.00014175,  0.0053647 , -0.0067912 ,  0.0024504 ,\n",
       "       -0.00385121,  0.00830564,  0.00588287, -0.00549677,  0.00253223,\n",
       "       -0.00398412, -0.00966294, -0.00038281,  0.00057039, -0.00731861,\n",
       "        0.00156146,  0.00156959, -0.00904733, -0.00212487, -0.00198738,\n",
       "        0.00479634,  0.00558545,  0.00609002,  0.00194128, -0.00804989,\n",
       "        0.00018293,  0.00991558,  0.00897316,  0.00566516,  0.00299518,\n",
       "        0.00512528, -0.00440758, -0.00512304, -0.00039667, -0.0049246 ,\n",
       "        0.00605422,  0.00755476, -0.00083923, -0.00905025, -0.00423364,\n",
       "       -0.00759339, -0.00821757,  0.00208063,  0.00303523, -0.00525631,\n",
       "       -0.0074426 ,  0.00037008,  0.00084605,  0.00059765,  0.00787395,\n",
       "       -0.0019701 , -0.00950887,  0.00600162,  0.00780284, -0.00595141,\n",
       "        0.00804148,  0.00508376, -0.00247211, -0.00171543,  0.00631624,\n",
       "        0.00810444,  0.00856701, -0.00689777,  0.00031821, -0.00543561,\n",
       "       -0.00933794, -0.00341606, -0.00323775, -0.0058183 ,  0.00322792,\n",
       "       -0.00387436,  0.00035272, -0.00233968,  0.00209381,  0.00554713,\n",
       "        0.00999742,  0.00388239, -0.00409566,  0.00567763,  0.00464045,\n",
       "        0.00100072,  0.00982526, -0.00417829,  0.00490692, -0.00712946,\n",
       "        0.00454362,  0.00903889, -0.00831172,  0.00254457,  0.00581241,\n",
       "       -0.00580861, -0.00711833, -0.00386498,  0.00375151,  0.00139518],\n",
       "      dtype=float32)"
      ]
     },
     "execution_count": 297,
     "metadata": {},
     "output_type": "execute_result"
    }
   ],
   "source": [
    "word2vec_skipgram.wv['jersey']"
   ]
  },
  {
   "cell_type": "code",
   "execution_count": 298,
   "metadata": {},
   "outputs": [
    {
     "data": {
      "text/plain": [
       "[('tutorials', 0.24609214067459106),\n",
       " ('gave', 0.236622616648674),\n",
       " ('stronger', 0.2186606228351593)]"
      ]
     },
     "execution_count": 298,
     "metadata": {},
     "output_type": "execute_result"
    }
   ],
   "source": [
    "word2vec_skipgram.wv.most_similar('jersey', topn=3) "
   ]
  },
  {
   "cell_type": "code",
   "execution_count": 299,
   "metadata": {},
   "outputs": [
    {
     "data": {
      "text/plain": [
       "array([ 2.2238907e-03, -7.5258538e-03,  5.6391009e-03, -5.0239055e-03,\n",
       "       -3.2576018e-03, -1.8481137e-03,  8.2212957e-03,  2.2623013e-03,\n",
       "       -9.1207231e-04, -2.8598453e-03, -2.1162331e-03, -1.2965261e-03,\n",
       "       -5.0780005e-03, -4.1287937e-03,  2.0208517e-04,  4.5435061e-03,\n",
       "        1.8017372e-03,  6.8937694e-03,  6.2565226e-04, -3.2578332e-03,\n",
       "       -7.3632495e-03,  6.0215183e-03,  6.9712806e-03, -6.0652001e-03,\n",
       "        4.6890466e-03,  9.5143178e-03, -6.3934410e-03, -2.8704174e-03,\n",
       "       -9.0970816e-03,  3.2329473e-03, -3.4445897e-03,  2.0477730e-03,\n",
       "        9.4386311e-03, -8.3725043e-03, -9.3185464e-03,  1.7285754e-03,\n",
       "       -8.0308001e-03, -9.0760095e-03, -9.3499590e-03, -3.0408011e-04,\n",
       "       -1.1096714e-03,  7.3580880e-04, -1.3419478e-03,  9.0404740e-03,\n",
       "        8.7906113e-03, -6.3604461e-03,  8.6838342e-03, -9.0173185e-03,\n",
       "       -1.3346587e-03,  2.5508665e-03, -1.1460030e-04, -3.8165119e-03,\n",
       "        4.6279098e-04,  1.0080603e-03, -9.4120605e-03, -4.8863101e-03,\n",
       "       -7.7048852e-03,  3.8039065e-03, -8.7898638e-04, -7.4800518e-03,\n",
       "        5.6513450e-03,  2.3213137e-04,  2.6999046e-03,  5.4336404e-03,\n",
       "       -4.2350572e-03,  7.8682024e-03, -7.8638839e-03, -3.4354527e-03,\n",
       "       -7.3924130e-03,  9.8794268e-04, -7.3983925e-03,  9.0836147e-03,\n",
       "        5.5435407e-03, -7.2271116e-03,  6.1743548e-03,  6.6035572e-03,\n",
       "       -7.4229981e-03,  4.6513136e-03, -7.7357162e-03,  9.3147689e-03,\n",
       "        4.6935664e-03, -2.1835128e-04, -8.9607444e-03, -8.7439094e-04,\n",
       "       -2.6614789e-04,  9.1348204e-04,  8.6716898e-03, -2.7692295e-03,\n",
       "       -8.6807646e-03, -8.8330163e-03, -1.0328008e-03,  1.3783503e-03,\n",
       "        8.8391651e-05, -2.1963126e-03,  8.5562216e-03,  1.1726640e-04,\n",
       "        6.4219492e-03,  3.9691189e-03, -7.2093233e-03, -2.1425593e-03],\n",
       "      dtype=float32)"
      ]
     },
     "execution_count": 299,
     "metadata": {},
     "output_type": "execute_result"
    }
   ],
   "source": [
    "word2vec_cbow.wv['michael']"
   ]
  },
  {
   "cell_type": "code",
   "execution_count": 300,
   "metadata": {},
   "outputs": [
    {
     "data": {
      "text/plain": [
       "[('improve', 0.349438339471817),\n",
       " ('new', 0.26499491930007935),\n",
       " ('team', 0.24796968698501587)]"
      ]
     },
     "execution_count": 300,
     "metadata": {},
     "output_type": "execute_result"
    }
   ],
   "source": [
    "word2vec_cbow.wv.most_similar('michael', topn=3)"
   ]
  },
  {
   "cell_type": "code",
   "execution_count": 301,
   "metadata": {},
   "outputs": [
    {
     "data": {
      "text/plain": [
       "-0.042254347"
      ]
     },
     "execution_count": 301,
     "metadata": {},
     "output_type": "execute_result"
    }
   ],
   "source": [
    "word2vec_cbow.wv.similarity('jordan', 'jersey')"
   ]
  },
  {
   "cell_type": "code",
   "execution_count": 302,
   "metadata": {},
   "outputs": [
    {
     "data": {
      "text/plain": [
       "['basketball',\n",
       " 'game',\n",
       " 'play',\n",
       " 'player',\n",
       " 'helped',\n",
       " 'ball',\n",
       " 'improve',\n",
       " 'players',\n",
       " 'last',\n",
       " 'whistle',\n",
       " 'signal',\n",
       " 'end',\n",
       " 'team',\n",
       " 'match',\n",
       " 'scoring',\n",
       " 'threepointer',\n",
       " 'tournament',\n",
       " 'second',\n",
       " 'practices',\n",
       " 'dribbling',\n",
       " 'blew',\n",
       " 'morning',\n",
       " 'control',\n",
       " 'requires',\n",
       " 'physical',\n",
       " 'fitness',\n",
       " 'every',\n",
       " 'wait',\n",
       " 'referee',\n",
       " 'jordan',\n",
       " 'abhishek',\n",
       " 'love',\n",
       " 'good',\n",
       " 'huge',\n",
       " 'event',\n",
       " 'phone',\n",
       " 'number',\n",
       " 'michael',\n",
       " 'considered',\n",
       " 'try',\n",
       " 'one',\n",
       " 'greatest',\n",
       " 'time',\n",
       " 'bought',\n",
       " 'new',\n",
       " 'yesterday',\n",
       " 'cant',\n",
       " 'focus',\n",
       " 'mental',\n",
       " 'excel',\n",
       " 'mvp',\n",
       " 'rain',\n",
       " 'passing',\n",
       " 'accuracy',\n",
       " 'watching',\n",
       " 'tutorials',\n",
       " 'online',\n",
       " 'understand',\n",
       " 'better',\n",
       " 'court',\n",
       " 'slippery',\n",
       " 'still',\n",
       " 'us',\n",
       " 'managed',\n",
       " 'safely',\n",
       " 'dream',\n",
       " 'professional',\n",
       " 'represent',\n",
       " 'country',\n",
       " 'scored',\n",
       " 'points',\n",
       " 'named',\n",
       " 'tips',\n",
       " 'gave',\n",
       " 'fans',\n",
       " 'lucky',\n",
       " 'cheered',\n",
       " 'loudly',\n",
       " 'favorite',\n",
       " 'dunked',\n",
       " 'joined',\n",
       " 'league',\n",
       " 'compete',\n",
       " 'skilled',\n",
       " 'wore',\n",
       " 'jersey',\n",
       " 'coach',\n",
       " 'finals',\n",
       " 'played',\n",
       " 'exceptionally',\n",
       " 'well',\n",
       " 'learning',\n",
       " 'defensive',\n",
       " 'techniques',\n",
       " 'become',\n",
       " 'stronger',\n",
       " 'name']"
      ]
     },
     "execution_count": 302,
     "metadata": {},
     "output_type": "execute_result"
    }
   ],
   "source": [
    "word2vec_cbow.wv.index_to_key"
   ]
  },
  {
   "cell_type": "code",
   "execution_count": 303,
   "metadata": {},
   "outputs": [
    {
     "data": {
      "text/plain": [
       "0.01360241"
      ]
     },
     "execution_count": 303,
     "metadata": {},
     "output_type": "execute_result"
    }
   ],
   "source": [
    "word2vec_cbow.wv.similarity('match', 'improve')"
   ]
  },
  {
   "cell_type": "code",
   "execution_count": 304,
   "metadata": {},
   "outputs": [
    {
     "data": {
      "text/plain": [
       "[('wore', 0.25106996297836304),\n",
       " ('scored', 0.17421291768550873),\n",
       " ('finals', 0.17162176966667175),\n",
       " ('play', 0.17125217616558075),\n",
       " ('tips', 0.15264011919498444),\n",
       " ('league', 0.14836515486240387),\n",
       " ('control', 0.13676364719867706),\n",
       " ('requires', 0.13290202617645264),\n",
       " ('stronger', 0.1255854368209839),\n",
       " ('greatest', 0.1170310527086258)]"
      ]
     },
     "execution_count": 304,
     "metadata": {},
     "output_type": "execute_result"
    }
   ],
   "source": [
    "word2vec_cbow.wv.most_similar('jordan', topn=10)"
   ]
  },
  {
   "cell_type": "code",
   "execution_count": 305,
   "metadata": {},
   "outputs": [
    {
     "data": {
      "text/plain": [
       "[('wore', 0.2510955333709717),\n",
       " ('scored', 0.17490196228027344),\n",
       " ('finals', 0.17287729680538177),\n",
       " ('play', 0.17175577580928802),\n",
       " ('tips', 0.15326723456382751),\n",
       " ('league', 0.1485784500837326),\n",
       " ('control', 0.13625386357307434),\n",
       " ('requires', 0.13406580686569214),\n",
       " ('stronger', 0.12713098526000977),\n",
       " ('greatest', 0.11783678084611893)]"
      ]
     },
     "execution_count": 305,
     "metadata": {},
     "output_type": "execute_result"
    }
   ],
   "source": [
    "word2vec_skipgram.wv.most_similar('jordan', topn=10)"
   ]
  },
  {
   "cell_type": "code",
   "execution_count": 306,
   "metadata": {},
   "outputs": [],
   "source": [
    "from sklearn.manifold import TSNE\n",
    "import numpy as np\n",
    "import matplotlib.pyplot as plt"
   ]
  },
  {
   "cell_type": "code",
   "execution_count": 307,
   "metadata": {},
   "outputs": [],
   "source": [
    "word_vectors = word2vec_cbow.wv\n",
    "vocab = list(word_vectors.index_to_key)"
   ]
  },
  {
   "cell_type": "code",
   "execution_count": 325,
   "metadata": {},
   "outputs": [
    {
     "data": {
      "text/plain": [
       "['basketball',\n",
       " 'game',\n",
       " 'play',\n",
       " 'player',\n",
       " 'helped',\n",
       " 'ball',\n",
       " 'improve',\n",
       " 'players',\n",
       " 'last',\n",
       " 'whistle',\n",
       " 'signal',\n",
       " 'end',\n",
       " 'team',\n",
       " 'match',\n",
       " 'scoring',\n",
       " 'threepointer',\n",
       " 'tournament',\n",
       " 'second',\n",
       " 'practices',\n",
       " 'dribbling',\n",
       " 'blew',\n",
       " 'morning',\n",
       " 'control',\n",
       " 'requires',\n",
       " 'physical',\n",
       " 'fitness',\n",
       " 'every',\n",
       " 'wait',\n",
       " 'referee',\n",
       " 'jordan',\n",
       " 'abhishek',\n",
       " 'love',\n",
       " 'good',\n",
       " 'huge',\n",
       " 'event',\n",
       " 'phone',\n",
       " 'number',\n",
       " 'michael',\n",
       " 'considered',\n",
       " 'try',\n",
       " 'one',\n",
       " 'greatest',\n",
       " 'time',\n",
       " 'bought',\n",
       " 'new',\n",
       " 'yesterday',\n",
       " 'cant',\n",
       " 'focus',\n",
       " 'mental',\n",
       " 'excel',\n",
       " 'mvp',\n",
       " 'rain',\n",
       " 'passing',\n",
       " 'accuracy',\n",
       " 'watching',\n",
       " 'tutorials',\n",
       " 'online',\n",
       " 'understand',\n",
       " 'better',\n",
       " 'court',\n",
       " 'slippery',\n",
       " 'still',\n",
       " 'us',\n",
       " 'managed',\n",
       " 'safely',\n",
       " 'dream',\n",
       " 'professional',\n",
       " 'represent',\n",
       " 'country',\n",
       " 'scored',\n",
       " 'points',\n",
       " 'named',\n",
       " 'tips',\n",
       " 'gave',\n",
       " 'fans',\n",
       " 'lucky',\n",
       " 'cheered',\n",
       " 'loudly',\n",
       " 'favorite',\n",
       " 'dunked',\n",
       " 'joined',\n",
       " 'league',\n",
       " 'compete',\n",
       " 'skilled',\n",
       " 'wore',\n",
       " 'jersey',\n",
       " 'coach',\n",
       " 'finals',\n",
       " 'played',\n",
       " 'exceptionally',\n",
       " 'well',\n",
       " 'learning',\n",
       " 'defensive',\n",
       " 'techniques',\n",
       " 'become',\n",
       " 'stronger',\n",
       " 'name']"
      ]
     },
     "execution_count": 325,
     "metadata": {},
     "output_type": "execute_result"
    }
   ],
   "source": [
    "vocab "
   ]
  },
  {
   "cell_type": "code",
   "execution_count": 349,
   "metadata": {},
   "outputs": [
    {
     "data": {
      "text/plain": [
       "97"
      ]
     },
     "execution_count": 349,
     "metadata": {},
     "output_type": "execute_result"
    }
   ],
   "source": [
    "len(vocab)"
   ]
  },
  {
   "cell_type": "code",
   "execution_count": 376,
   "metadata": {},
   "outputs": [],
   "source": [
    "x = np.array([word_vectors[i] for i in vocab])\n"
   ]
  },
  {
   "cell_type": "code",
   "execution_count": 377,
   "metadata": {},
   "outputs": [
    {
     "data": {
      "text/plain": [
       "array([[-5.3488667e-04,  2.5496405e-04,  5.1124198e-03, ...,\n",
       "        -7.0675435e-03,  9.0413040e-04,  6.3706664e-03],\n",
       "       [-8.6192563e-03,  3.6835663e-03,  5.1874765e-03, ...,\n",
       "        -2.4059331e-03, -9.5128203e-03,  4.4959616e-03],\n",
       "       [ 9.5194941e-05,  3.0768029e-03, -6.8144454e-03, ...,\n",
       "         5.1411637e-04,  8.2139550e-03, -7.0173135e-03],\n",
       "       ...,\n",
       "       [ 1.9143203e-03,  4.5176018e-03,  1.4475270e-03, ...,\n",
       "        -3.3171668e-03, -3.1291824e-03, -3.3211899e-03],\n",
       "       [ 3.8198100e-03,  1.5853224e-03, -3.1406134e-03, ...,\n",
       "        -6.1351769e-03,  8.9217036e-05, -8.5872654e-03],\n",
       "       [-6.9582625e-03, -4.3026565e-04,  3.7009718e-03, ...,\n",
       "        -4.3847314e-03, -3.5104402e-03,  7.9125827e-03]], dtype=float32)"
      ]
     },
     "execution_count": 377,
     "metadata": {},
     "output_type": "execute_result"
    }
   ],
   "source": [
    "x"
   ]
  },
  {
   "cell_type": "code",
   "execution_count": 378,
   "metadata": {},
   "outputs": [
    {
     "data": {
      "text/html": [
       "<style>#sk-container-id-19 {color: black;}#sk-container-id-19 pre{padding: 0;}#sk-container-id-19 div.sk-toggleable {background-color: white;}#sk-container-id-19 label.sk-toggleable__label {cursor: pointer;display: block;width: 100%;margin-bottom: 0;padding: 0.3em;box-sizing: border-box;text-align: center;}#sk-container-id-19 label.sk-toggleable__label-arrow:before {content: \"▸\";float: left;margin-right: 0.25em;color: #696969;}#sk-container-id-19 label.sk-toggleable__label-arrow:hover:before {color: black;}#sk-container-id-19 div.sk-estimator:hover label.sk-toggleable__label-arrow:before {color: black;}#sk-container-id-19 div.sk-toggleable__content {max-height: 0;max-width: 0;overflow: hidden;text-align: left;background-color: #f0f8ff;}#sk-container-id-19 div.sk-toggleable__content pre {margin: 0.2em;color: black;border-radius: 0.25em;background-color: #f0f8ff;}#sk-container-id-19 input.sk-toggleable__control:checked~div.sk-toggleable__content {max-height: 200px;max-width: 100%;overflow: auto;}#sk-container-id-19 input.sk-toggleable__control:checked~label.sk-toggleable__label-arrow:before {content: \"▾\";}#sk-container-id-19 div.sk-estimator input.sk-toggleable__control:checked~label.sk-toggleable__label {background-color: #d4ebff;}#sk-container-id-19 div.sk-label input.sk-toggleable__control:checked~label.sk-toggleable__label {background-color: #d4ebff;}#sk-container-id-19 input.sk-hidden--visually {border: 0;clip: rect(1px 1px 1px 1px);clip: rect(1px, 1px, 1px, 1px);height: 1px;margin: -1px;overflow: hidden;padding: 0;position: absolute;width: 1px;}#sk-container-id-19 div.sk-estimator {font-family: monospace;background-color: #f0f8ff;border: 1px dotted black;border-radius: 0.25em;box-sizing: border-box;margin-bottom: 0.5em;}#sk-container-id-19 div.sk-estimator:hover {background-color: #d4ebff;}#sk-container-id-19 div.sk-parallel-item::after {content: \"\";width: 100%;border-bottom: 1px solid gray;flex-grow: 1;}#sk-container-id-19 div.sk-label:hover label.sk-toggleable__label {background-color: #d4ebff;}#sk-container-id-19 div.sk-serial::before {content: \"\";position: absolute;border-left: 1px solid gray;box-sizing: border-box;top: 0;bottom: 0;left: 50%;z-index: 0;}#sk-container-id-19 div.sk-serial {display: flex;flex-direction: column;align-items: center;background-color: white;padding-right: 0.2em;padding-left: 0.2em;position: relative;}#sk-container-id-19 div.sk-item {position: relative;z-index: 1;}#sk-container-id-19 div.sk-parallel {display: flex;align-items: stretch;justify-content: center;background-color: white;position: relative;}#sk-container-id-19 div.sk-item::before, #sk-container-id-19 div.sk-parallel-item::before {content: \"\";position: absolute;border-left: 1px solid gray;box-sizing: border-box;top: 0;bottom: 0;left: 50%;z-index: -1;}#sk-container-id-19 div.sk-parallel-item {display: flex;flex-direction: column;z-index: 1;position: relative;background-color: white;}#sk-container-id-19 div.sk-parallel-item:first-child::after {align-self: flex-end;width: 50%;}#sk-container-id-19 div.sk-parallel-item:last-child::after {align-self: flex-start;width: 50%;}#sk-container-id-19 div.sk-parallel-item:only-child::after {width: 0;}#sk-container-id-19 div.sk-dashed-wrapped {border: 1px dashed gray;margin: 0 0.4em 0.5em 0.4em;box-sizing: border-box;padding-bottom: 0.4em;background-color: white;}#sk-container-id-19 div.sk-label label {font-family: monospace;font-weight: bold;display: inline-block;line-height: 1.2em;}#sk-container-id-19 div.sk-label-container {text-align: center;}#sk-container-id-19 div.sk-container {/* jupyter's `normalize.less` sets `[hidden] { display: none; }` but bootstrap.min.css set `[hidden] { display: none !important; }` so we also need the `!important` here to be able to override the default hidden behavior on the sphinx rendered scikit-learn.org. See: https://github.com/scikit-learn/scikit-learn/issues/21755 */display: inline-block !important;position: relative;}#sk-container-id-19 div.sk-text-repr-fallback {display: none;}</style><div id=\"sk-container-id-19\" class=\"sk-top-container\"><div class=\"sk-text-repr-fallback\"><pre>TSNE()</pre><b>In a Jupyter environment, please rerun this cell to show the HTML representation or trust the notebook. <br />On GitHub, the HTML representation is unable to render, please try loading this page with nbviewer.org.</b></div><div class=\"sk-container\" hidden><div class=\"sk-item\"><div class=\"sk-estimator sk-toggleable\"><input class=\"sk-toggleable__control sk-hidden--visually\" id=\"sk-estimator-id-19\" type=\"checkbox\" checked><label for=\"sk-estimator-id-19\" class=\"sk-toggleable__label sk-toggleable__label-arrow\">TSNE</label><div class=\"sk-toggleable__content\"><pre>TSNE()</pre></div></div></div></div></div>"
      ],
      "text/plain": [
       "TSNE()"
      ]
     },
     "execution_count": 378,
     "metadata": {},
     "output_type": "execute_result"
    }
   ],
   "source": [
    "tsne = TSNE(n_components=2)     # TSNE is a technique for dimensionality reduction or decomposes a high-dimensional dataset into a lower-dimensional space.\n",
    "tsne                #also converted 97th dimension into 2D dimension"
   ]
  },
  {
   "cell_type": "code",
   "execution_count": 379,
   "metadata": {},
   "outputs": [
    {
     "data": {
      "text/plain": [
       "array([[ 2.2293236 ,  1.7882011 ],\n",
       "       [ 2.213709  ,  4.015796  ],\n",
       "       [ 2.373634  , -0.16444348],\n",
       "       [ 1.1230199 , -1.5275283 ],\n",
       "       [-1.1024274 ,  3.6620066 ],\n",
       "       [ 2.14232   , -0.9717188 ],\n",
       "       [-0.13377878, -0.5956467 ],\n",
       "       [ 0.9293947 ,  3.473234  ],\n",
       "       [ 3.3124156 , -0.3869725 ],\n",
       "       [ 2.737612  ,  2.3273256 ],\n",
       "       [-2.7621    , -0.04288559],\n",
       "       [ 0.78430986,  0.8227918 ],\n",
       "       [-1.5960094 , -0.40744522],\n",
       "       [-0.72664183,  4.1790304 ],\n",
       "       [ 0.8600161 , -0.6050225 ],\n",
       "       [ 2.3368769 ,  4.9504876 ],\n",
       "       [-1.5827483 , -1.5989978 ],\n",
       "       [ 0.67412984,  1.5420915 ],\n",
       "       [ 2.7125802 ,  3.2767975 ],\n",
       "       [ 1.0125568 ,  3.4135468 ],\n",
       "       [ 1.7523925 ,  0.33288205],\n",
       "       [-1.3621305 ,  2.5660958 ],\n",
       "       [ 1.7788869 ,  4.3280764 ],\n",
       "       [-3.3049831 ,  2.500671  ],\n",
       "       [ 0.21244869,  2.1127183 ],\n",
       "       [-0.36087713,  2.3876085 ],\n",
       "       [-1.0508649 ,  2.7744784 ],\n",
       "       [ 3.475074  ,  0.4021811 ],\n",
       "       [-0.11829019, -0.90640146],\n",
       "       [ 0.10831422,  3.6638827 ],\n",
       "       [ 1.4250749 ,  0.15790729],\n",
       "       [ 1.2010309 ,  5.028801  ],\n",
       "       [-1.5194012 , -0.05004551],\n",
       "       [ 0.64047307, -2.6960871 ],\n",
       "       [-0.02357734,  1.1479888 ],\n",
       "       [-2.5564494 ,  1.7937601 ],\n",
       "       [ 1.0329628 , -1.2514267 ],\n",
       "       [-0.3489206 , -0.6327913 ],\n",
       "       [-1.6092721 ,  3.6368787 ],\n",
       "       [-1.2681198 ,  1.9334518 ],\n",
       "       [-2.881581  ,  1.6941167 ],\n",
       "       [ 1.2376676 ,  0.926654  ],\n",
       "       [-0.84782964,  0.86349887],\n",
       "       [-2.830002  , -0.23551406],\n",
       "       [-0.56176656, -1.9052528 ],\n",
       "       [-2.3208523 ,  2.346915  ],\n",
       "       [ 3.4075162 ,  0.86491853],\n",
       "       [ 0.32855937, -0.0207214 ],\n",
       "       [-2.365223  ,  2.861259  ],\n",
       "       [-1.7953267 ,  1.1313069 ],\n",
       "       [ 3.1163645 , -2.162584  ],\n",
       "       [ 0.32398912,  1.0433222 ],\n",
       "       [ 3.4569066 , -0.848527  ],\n",
       "       [ 3.2411923 ,  2.3792202 ],\n",
       "       [-1.7696654 , -1.5286524 ],\n",
       "       [ 1.0140448 ,  2.5885222 ],\n",
       "       [ 1.4587961 ,  3.1047647 ],\n",
       "       [ 1.583073  ,  1.673398  ],\n",
       "       [ 3.5309284 ,  0.8576827 ],\n",
       "       [ 4.128671  ,  2.510942  ],\n",
       "       [-0.87280077,  5.2407494 ],\n",
       "       [-1.9725847 ,  1.1025119 ],\n",
       "       [ 1.0451454 , -0.43710867],\n",
       "       [-0.62096715,  1.8402735 ],\n",
       "       [ 2.0716352 ,  3.3456612 ],\n",
       "       [-0.5275996 , -1.8794088 ],\n",
       "       [-1.1593539 ,  0.09467687],\n",
       "       [ 0.44735855,  5.132525  ],\n",
       "       [ 2.2624345 , -0.14537288],\n",
       "       [ 0.25609204,  3.9523907 ],\n",
       "       [ 3.50121   ,  1.3106536 ],\n",
       "       [ 1.1828954 , -2.044076  ],\n",
       "       [ 1.8480791 ,  1.3879659 ],\n",
       "       [ 1.8576514 , -0.84338635],\n",
       "       [-2.3239179 ,  0.5073749 ],\n",
       "       [-0.5298075 ,  1.4246845 ],\n",
       "       [-2.3354611 ,  3.7855227 ],\n",
       "       [-0.31797233,  1.941609  ],\n",
       "       [-0.76181376,  0.08021496],\n",
       "       [ 0.26419982,  5.075058  ],\n",
       "       [-2.2150002 ,  3.68903   ],\n",
       "       [ 1.8083237 ,  1.4814069 ],\n",
       "       [ 2.1918187 ,  1.2089753 ],\n",
       "       [ 2.453866  ,  0.5480562 ],\n",
       "       [-0.3624661 ,  3.559926  ],\n",
       "       [ 0.7936032 ,  2.452864  ],\n",
       "       [-1.0876367 ,  1.025715  ],\n",
       "       [ 0.31026584,  3.047152  ],\n",
       "       [ 0.4564627 ,  0.08100411],\n",
       "       [ 1.948683  , -1.7654331 ],\n",
       "       [ 0.3479005 ,  4.975018  ],\n",
       "       [ 1.5999937 ,  0.52575624],\n",
       "       [-2.6625288 ,  1.3073494 ],\n",
       "       [ 3.2083044 ,  1.7999973 ],\n",
       "       [ 0.17887548,  1.7870358 ],\n",
       "       [ 0.0711203 ,  2.251561  ],\n",
       "       [ 2.3912723 ,  2.552574  ]], dtype=float32)"
      ]
     },
     "execution_count": 379,
     "metadata": {},
     "output_type": "execute_result"
    }
   ],
   "source": [
    "x_new_embedings =tsne.fit_transform(x)\n",
    "x_new_embedings"
   ]
  },
  {
   "cell_type": "code",
   "execution_count": 380,
   "metadata": {},
   "outputs": [
    {
     "data": {
      "text/plain": [
       "<matplotlib.collections.PathCollection at 0x12c8f8fa0>"
      ]
     },
     "execution_count": 380,
     "metadata": {},
     "output_type": "execute_result"
    },
    {
     "data": {
      "image/png": "[encoded data removed]",
      "text/plain": [
       "<Figure size 640x480 with 1 Axes>"
      ]
     },
     "metadata": {},
     "output_type": "display_data"
    }
   ],
   "source": [
    "plt.Figure(figsize=(12,6))\n",
    "plt.scatter(x_new_embedings[:,0], x_new_embedings[:,1], marker='o', color='red')"
   ]
  },
  {
   "cell_type": "code",
   "execution_count": 381,
   "metadata": {},
   "outputs": [
    {
     "data": {
      "text/plain": [
       "['basketball',\n",
       " 'game',\n",
       " 'play',\n",
       " 'player',\n",
       " 'helped',\n",
       " 'ball',\n",
       " 'improve',\n",
       " 'players',\n",
       " 'last',\n",
       " 'whistle',\n",
       " 'signal',\n",
       " 'end',\n",
       " 'team',\n",
       " 'match',\n",
       " 'scoring',\n",
       " 'threepointer',\n",
       " 'tournament',\n",
       " 'second',\n",
       " 'practices',\n",
       " 'dribbling',\n",
       " 'blew',\n",
       " 'morning',\n",
       " 'control',\n",
       " 'requires',\n",
       " 'physical',\n",
       " 'fitness',\n",
       " 'every',\n",
       " 'wait',\n",
       " 'referee',\n",
       " 'jordan',\n",
       " 'abhishek',\n",
       " 'love',\n",
       " 'good',\n",
       " 'huge',\n",
       " 'event',\n",
       " 'phone',\n",
       " 'number',\n",
       " 'michael',\n",
       " 'considered',\n",
       " 'try',\n",
       " 'one',\n",
       " 'greatest',\n",
       " 'time',\n",
       " 'bought',\n",
       " 'new',\n",
       " 'yesterday',\n",
       " 'cant',\n",
       " 'focus',\n",
       " 'mental',\n",
       " 'excel',\n",
       " 'mvp',\n",
       " 'rain',\n",
       " 'passing',\n",
       " 'accuracy',\n",
       " 'watching',\n",
       " 'tutorials',\n",
       " 'online',\n",
       " 'understand',\n",
       " 'better',\n",
       " 'court',\n",
       " 'slippery',\n",
       " 'still',\n",
       " 'us',\n",
       " 'managed',\n",
       " 'safely',\n",
       " 'dream',\n",
       " 'professional',\n",
       " 'represent',\n",
       " 'country',\n",
       " 'scored',\n",
       " 'points',\n",
       " 'named',\n",
       " 'tips',\n",
       " 'gave',\n",
       " 'fans',\n",
       " 'lucky',\n",
       " 'cheered',\n",
       " 'loudly',\n",
       " 'favorite',\n",
       " 'dunked',\n",
       " 'joined',\n",
       " 'league',\n",
       " 'compete',\n",
       " 'skilled',\n",
       " 'wore',\n",
       " 'jersey',\n",
       " 'coach',\n",
       " 'finals',\n",
       " 'played',\n",
       " 'exceptionally',\n",
       " 'well',\n",
       " 'learning',\n",
       " 'defensive',\n",
       " 'techniques',\n",
       " 'become',\n",
       " 'stronger',\n",
       " 'name']"
      ]
     },
     "execution_count": 381,
     "metadata": {},
     "output_type": "execute_result"
    }
   ],
   "source": [
    "vocab"
   ]
  },
  {
   "cell_type": "code",
   "execution_count": 384,
   "metadata": {},
   "outputs": [
    {
     "data": {
      "image/png": "[encoded data removed]",
      "text/plain": [
       "<Figure size 1500x1500 with 1 Axes>"
      ]
     },
     "metadata": {},
     "output_type": "display_data"
    },
    {
     "data": {
      "text/plain": [
       "<Figure size 640x480 with 0 Axes>"
      ]
     },
     "metadata": {},
     "output_type": "display_data"
    }
   ],
   "source": [
    "import matplotlib.pyplot as plt\n",
    "\n",
    "plt.ion()\n",
    "plt.figure(figsize=(15,15))\n",
    "plt.scatter(x_new_embedings[:,0], x_new_embedings[:,1], marker='o', color='red')\n",
    "\n",
    "for i, words in enumerate(vocab[:len(x_new_embedings)]): \n",
    "    plt.annotate(words, xy=(x_new_embedings[i,0], x_new_embedings[i,1]), ha='center', fontsize=8)\n",
    "\n",
    "plt.xlim(x_new_embedings[:,0].min() - 1, x_new_embedings[:,0].max() + 1)\n",
    "plt.ylim(x_new_embedings[:,1].min() - 1, x_new_embedings[:,1].max() + 1)\n",
    "\n",
    "plt.pause(0.5)\n",
    "plt.clf()"
   ]
  },
  {
   "cell_type": "code",
   "execution_count": 5,
   "metadata": {},
   "outputs": [
    {
     "name": "stderr",
     "output_type": "stream",
     "text": [
      "[nltk_data] Downloading package punkt to /Users/macbook/nltk_data...\n",
      "[nltk_data]   Package punkt is already up-to-date!\n"
     ]
    }
   ],
   "source": [
    "import nltk\n",
    "\n",
    "nltk.download('punkt')\n",
    "from nltk.tokenize import word_tokenize\n",
    "\n",
    "\n",
    "\n",
    "text = \"My name is Abhishek, i am currently working on GenAI, LLMS, and also developed ChatGPT model's \""
   ]
  },
  {
   "cell_type": "code",
   "execution_count": 2,
   "metadata": {},
   "outputs": [
    {
     "data": {
      "text/plain": [
       "['My',\n",
       " 'name',\n",
       " 'is',\n",
       " 'Abhishek',\n",
       " ',',\n",
       " 'i',\n",
       " 'am',\n",
       " 'currently',\n",
       " 'working',\n",
       " 'on',\n",
       " 'GenAI',\n",
       " ',',\n",
       " 'LLMS',\n",
       " ',',\n",
       " 'and',\n",
       " 'also',\n",
       " 'developed',\n",
       " 'ChatGPT',\n",
       " 'model',\n",
       " \"'s\"]"
      ]
     },
     "execution_count": 2,
     "metadata": {},
     "output_type": "execute_result"
    }
   ],
   "source": [
    "word_tokenize(text)"
   ]
  },
  {
   "cell_type": "code",
   "execution_count": 3,
   "metadata": {},
   "outputs": [],
   "source": [
    "from nltk import ne_chunk, pos_tag"
   ]
  },
  {
   "cell_type": "code",
   "execution_count": 4,
   "metadata": {},
   "outputs": [
    {
     "data": {
      "image/svg+xml": [
       "<svg baseProfile=\"full\" height=\"168px\" preserveAspectRatio=\"xMidYMid meet\" style=\"font-family: times, serif; font-weight: normal; font-style: normal; font-size: 16px\" version=\"1.1\" viewBox=\"0,0,1160.0,168.0\" width=\"1160px\" xmlns=\"http://www.w3.org/2000/svg\" xmlns:ev=\"http://www.w3.org/2001/xml-events\" xmlns:xlink=\"http://www.w3.org/1999/xlink\"><defs /><svg width=\"100%\" x=\"0\" y=\"0px\"><defs /><text text-anchor=\"middle\" x=\"50%\" y=\"16px\">S</text></svg><svg width=\"4.13793%\" x=\"0%\" y=\"48px\"><defs /><svg width=\"100%\" x=\"0\" y=\"0px\"><defs /><text text-anchor=\"middle\" x=\"50%\" y=\"16px\">My</text></svg><svg width=\"100%\" x=\"0%\" y=\"48px\"><defs /><svg width=\"100%\" x=\"0\" y=\"0px\"><defs /><text text-anchor=\"middle\" x=\"50%\" y=\"16px\">PRP$</text></svg></svg><line stroke=\"black\" x1=\"50%\" x2=\"50%\" y1=\"20px\" y2=\"48px\" /></svg><line stroke=\"black\" x1=\"50%\" x2=\"2.06897%\" y1=\"20px\" y2=\"48px\" /><svg width=\"4.13793%\" x=\"4.13793%\" y=\"48px\"><defs /><svg width=\"100%\" x=\"0\" y=\"0px\"><defs /><text text-anchor=\"middle\" x=\"50%\" y=\"16px\">name</text></svg><svg width=\"100%\" x=\"0%\" y=\"48px\"><defs /><svg width=\"100%\" x=\"0\" y=\"0px\"><defs /><text text-anchor=\"middle\" x=\"50%\" y=\"16px\">NN</text></svg></svg><line stroke=\"black\" x1=\"50%\" x2=\"50%\" y1=\"20px\" y2=\"48px\" /></svg><line stroke=\"black\" x1=\"50%\" x2=\"6.2069%\" y1=\"20px\" y2=\"48px\" /><svg width=\"3.44828%\" x=\"8.27586%\" y=\"48px\"><defs /><svg width=\"100%\" x=\"0\" y=\"0px\"><defs /><text text-anchor=\"middle\" x=\"50%\" y=\"16px\">is</text></svg><svg width=\"100%\" x=\"0%\" y=\"48px\"><defs /><svg width=\"100%\" x=\"0\" y=\"0px\"><defs /><text text-anchor=\"middle\" x=\"50%\" y=\"16px\">VBZ</text></svg></svg><line stroke=\"black\" x1=\"50%\" x2=\"50%\" y1=\"20px\" y2=\"48px\" /></svg><line stroke=\"black\" x1=\"50%\" x2=\"10%\" y1=\"20px\" y2=\"48px\" /><svg width=\"6.89655%\" x=\"11.7241%\" y=\"48px\"><defs /><svg width=\"100%\" x=\"0\" y=\"0px\"><defs /><text text-anchor=\"middle\" x=\"50%\" y=\"16px\">PERSON</text></svg><svg width=\"100%\" x=\"0%\" y=\"48px\"><defs /><svg width=\"100%\" x=\"0\" y=\"0px\"><defs /><text text-anchor=\"middle\" x=\"50%\" y=\"16px\">Abhishek</text></svg><svg width=\"100%\" x=\"0%\" y=\"48px\"><defs /><svg width=\"100%\" x=\"0\" y=\"0px\"><defs /><text text-anchor=\"middle\" x=\"50%\" y=\"16px\">NNP</text></svg></svg><line stroke=\"black\" x1=\"50%\" x2=\"50%\" y1=\"20px\" y2=\"48px\" /></svg><line stroke=\"black\" x1=\"50%\" x2=\"50%\" y1=\"20px\" y2=\"48px\" /></svg><line stroke=\"black\" x1=\"50%\" x2=\"15.1724%\" y1=\"20px\" y2=\"48px\" /><svg width=\"2.06897%\" x=\"18.6207%\" y=\"48px\"><defs /><svg width=\"100%\" x=\"0\" y=\"0px\"><defs /><text text-anchor=\"middle\" x=\"50%\" y=\"16px\">,</text></svg><svg width=\"100%\" x=\"0%\" y=\"48px\"><defs /><svg width=\"100%\" x=\"0\" y=\"0px\"><defs /><text text-anchor=\"middle\" x=\"50%\" y=\"16px\">,</text></svg></svg><line stroke=\"black\" x1=\"50%\" x2=\"50%\" y1=\"20px\" y2=\"48px\" /></svg><line stroke=\"black\" x1=\"50%\" x2=\"19.6552%\" y1=\"20px\" y2=\"48px\" /><svg width=\"2.75862%\" x=\"20.6897%\" y=\"48px\"><defs /><svg width=\"100%\" x=\"0\" y=\"0px\"><defs /><text text-anchor=\"middle\" x=\"50%\" y=\"16px\">i</text></svg><svg width=\"100%\" x=\"0%\" y=\"48px\"><defs /><svg width=\"100%\" x=\"0\" y=\"0px\"><defs /><text text-anchor=\"middle\" x=\"50%\" y=\"16px\">NN</text></svg></svg><line stroke=\"black\" x1=\"50%\" x2=\"50%\" y1=\"20px\" y2=\"48px\" /></svg><line stroke=\"black\" x1=\"50%\" x2=\"22.069%\" y1=\"20px\" y2=\"48px\" /><svg width=\"3.44828%\" x=\"23.4483%\" y=\"48px\"><defs /><svg width=\"100%\" x=\"0\" y=\"0px\"><defs /><text text-anchor=\"middle\" x=\"50%\" y=\"16px\">am</text></svg><svg width=\"100%\" x=\"0%\" y=\"48px\"><defs /><svg width=\"100%\" x=\"0\" y=\"0px\"><defs /><text text-anchor=\"middle\" x=\"50%\" y=\"16px\">VBP</text></svg></svg><line stroke=\"black\" x1=\"50%\" x2=\"50%\" y1=\"20px\" y2=\"48px\" /></svg><line stroke=\"black\" x1=\"50%\" x2=\"25.1724%\" y1=\"20px\" y2=\"48px\" /><svg width=\"7.58621%\" x=\"26.8966%\" y=\"48px\"><defs /><svg width=\"100%\" x=\"0\" y=\"0px\"><defs /><text text-anchor=\"middle\" x=\"50%\" y=\"16px\">currently</text></svg><svg width=\"100%\" x=\"0%\" y=\"48px\"><defs /><svg width=\"100%\" x=\"0\" y=\"0px\"><defs /><text text-anchor=\"middle\" x=\"50%\" y=\"16px\">RB</text></svg></svg><line stroke=\"black\" x1=\"50%\" x2=\"50%\" y1=\"20px\" y2=\"48px\" /></svg><line stroke=\"black\" x1=\"50%\" x2=\"30.6897%\" y1=\"20px\" y2=\"48px\" /><svg width=\"6.2069%\" x=\"34.4828%\" y=\"48px\"><defs /><svg width=\"100%\" x=\"0\" y=\"0px\"><defs /><text text-anchor=\"middle\" x=\"50%\" y=\"16px\">working</text></svg><svg width=\"100%\" x=\"0%\" y=\"48px\"><defs /><svg width=\"100%\" x=\"0\" y=\"0px\"><defs /><text text-anchor=\"middle\" x=\"50%\" y=\"16px\">VBG</text></svg></svg><line stroke=\"black\" x1=\"50%\" x2=\"50%\" y1=\"20px\" y2=\"48px\" /></svg><line stroke=\"black\" x1=\"50%\" x2=\"37.5862%\" y1=\"20px\" y2=\"48px\" /><svg width=\"2.75862%\" x=\"40.6897%\" y=\"48px\"><defs /><svg width=\"100%\" x=\"0\" y=\"0px\"><defs /><text text-anchor=\"middle\" x=\"50%\" y=\"16px\">on</text></svg><svg width=\"100%\" x=\"0%\" y=\"48px\"><defs /><svg width=\"100%\" x=\"0\" y=\"0px\"><defs /><text text-anchor=\"middle\" x=\"50%\" y=\"16px\">IN</text></svg></svg><line stroke=\"black\" x1=\"50%\" x2=\"50%\" y1=\"20px\" y2=\"48px\" /></svg><line stroke=\"black\" x1=\"50%\" x2=\"42.069%\" y1=\"20px\" y2=\"48px\" /><svg width=\"9.65517%\" x=\"43.4483%\" y=\"48px\"><defs /><svg width=\"100%\" x=\"0\" y=\"0px\"><defs /><text text-anchor=\"middle\" x=\"50%\" y=\"16px\">ORGANIZATION</text></svg><svg width=\"100%\" x=\"0%\" y=\"48px\"><defs /><svg width=\"100%\" x=\"0\" y=\"0px\"><defs /><text text-anchor=\"middle\" x=\"50%\" y=\"16px\">GenAI</text></svg><svg width=\"100%\" x=\"0%\" y=\"48px\"><defs /><svg width=\"100%\" x=\"0\" y=\"0px\"><defs /><text text-anchor=\"middle\" x=\"50%\" y=\"16px\">NNP</text></svg></svg><line stroke=\"black\" x1=\"50%\" x2=\"50%\" y1=\"20px\" y2=\"48px\" /></svg><line stroke=\"black\" x1=\"50%\" x2=\"50%\" y1=\"20px\" y2=\"48px\" /></svg><line stroke=\"black\" x1=\"50%\" x2=\"48.2759%\" y1=\"20px\" y2=\"48px\" /><svg width=\"2.06897%\" x=\"53.1034%\" y=\"48px\"><defs /><svg width=\"100%\" x=\"0\" y=\"0px\"><defs /><text text-anchor=\"middle\" x=\"50%\" y=\"16px\">,</text></svg><svg width=\"100%\" x=\"0%\" y=\"48px\"><defs /><svg width=\"100%\" x=\"0\" y=\"0px\"><defs /><text text-anchor=\"middle\" x=\"50%\" y=\"16px\">,</text></svg></svg><line stroke=\"black\" x1=\"50%\" x2=\"50%\" y1=\"20px\" y2=\"48px\" /></svg><line stroke=\"black\" x1=\"50%\" x2=\"54.1379%\" y1=\"20px\" y2=\"48px\" /><svg width=\"9.65517%\" x=\"55.1724%\" y=\"48px\"><defs /><svg width=\"100%\" x=\"0\" y=\"0px\"><defs /><text text-anchor=\"middle\" x=\"50%\" y=\"16px\">ORGANIZATION</text></svg><svg width=\"100%\" x=\"0%\" y=\"48px\"><defs /><svg width=\"100%\" x=\"0\" y=\"0px\"><defs /><text text-anchor=\"middle\" x=\"50%\" y=\"16px\">LLMS</text></svg><svg width=\"100%\" x=\"0%\" y=\"48px\"><defs /><svg width=\"100%\" x=\"0\" y=\"0px\"><defs /><text text-anchor=\"middle\" x=\"50%\" y=\"16px\">NNP</text></svg></svg><line stroke=\"black\" x1=\"50%\" x2=\"50%\" y1=\"20px\" y2=\"48px\" /></svg><line stroke=\"black\" x1=\"50%\" x2=\"50%\" y1=\"20px\" y2=\"48px\" /></svg><line stroke=\"black\" x1=\"50%\" x2=\"60%\" y1=\"20px\" y2=\"48px\" /><svg width=\"2.06897%\" x=\"64.8276%\" y=\"48px\"><defs /><svg width=\"100%\" x=\"0\" y=\"0px\"><defs /><text text-anchor=\"middle\" x=\"50%\" y=\"16px\">,</text></svg><svg width=\"100%\" x=\"0%\" y=\"48px\"><defs /><svg width=\"100%\" x=\"0\" y=\"0px\"><defs /><text text-anchor=\"middle\" x=\"50%\" y=\"16px\">,</text></svg></svg><line stroke=\"black\" x1=\"50%\" x2=\"50%\" y1=\"20px\" y2=\"48px\" /></svg><line stroke=\"black\" x1=\"50%\" x2=\"65.8621%\" y1=\"20px\" y2=\"48px\" /><svg width=\"3.44828%\" x=\"66.8966%\" y=\"48px\"><defs /><svg width=\"100%\" x=\"0\" y=\"0px\"><defs /><text text-anchor=\"middle\" x=\"50%\" y=\"16px\">and</text></svg><svg width=\"100%\" x=\"0%\" y=\"48px\"><defs /><svg width=\"100%\" x=\"0\" y=\"0px\"><defs /><text text-anchor=\"middle\" x=\"50%\" y=\"16px\">CC</text></svg></svg><line stroke=\"black\" x1=\"50%\" x2=\"50%\" y1=\"20px\" y2=\"48px\" /></svg><line stroke=\"black\" x1=\"50%\" x2=\"68.6207%\" y1=\"20px\" y2=\"48px\" /><svg width=\"4.13793%\" x=\"70.3448%\" y=\"48px\"><defs /><svg width=\"100%\" x=\"0\" y=\"0px\"><defs /><text text-anchor=\"middle\" x=\"50%\" y=\"16px\">also</text></svg><svg width=\"100%\" x=\"0%\" y=\"48px\"><defs /><svg width=\"100%\" x=\"0\" y=\"0px\"><defs /><text text-anchor=\"middle\" x=\"50%\" y=\"16px\">RB</text></svg></svg><line stroke=\"black\" x1=\"50%\" x2=\"50%\" y1=\"20px\" y2=\"48px\" /></svg><line stroke=\"black\" x1=\"50%\" x2=\"72.4138%\" y1=\"20px\" y2=\"48px\" /><svg width=\"7.58621%\" x=\"74.4828%\" y=\"48px\"><defs /><svg width=\"100%\" x=\"0\" y=\"0px\"><defs /><text text-anchor=\"middle\" x=\"50%\" y=\"16px\">developed</text></svg><svg width=\"100%\" x=\"0%\" y=\"48px\"><defs /><svg width=\"100%\" x=\"0\" y=\"0px\"><defs /><text text-anchor=\"middle\" x=\"50%\" y=\"16px\">VBD</text></svg></svg><line stroke=\"black\" x1=\"50%\" x2=\"50%\" y1=\"20px\" y2=\"48px\" /></svg><line stroke=\"black\" x1=\"50%\" x2=\"78.2759%\" y1=\"20px\" y2=\"48px\" /><svg width=\"9.65517%\" x=\"82.069%\" y=\"48px\"><defs /><svg width=\"100%\" x=\"0\" y=\"0px\"><defs /><text text-anchor=\"middle\" x=\"50%\" y=\"16px\">ORGANIZATION</text></svg><svg width=\"100%\" x=\"0%\" y=\"48px\"><defs /><svg width=\"100%\" x=\"0\" y=\"0px\"><defs /><text text-anchor=\"middle\" x=\"50%\" y=\"16px\">ChatGPT</text></svg><svg width=\"100%\" x=\"0%\" y=\"48px\"><defs /><svg width=\"100%\" x=\"0\" y=\"0px\"><defs /><text text-anchor=\"middle\" x=\"50%\" y=\"16px\">NNP</text></svg></svg><line stroke=\"black\" x1=\"50%\" x2=\"50%\" y1=\"20px\" y2=\"48px\" /></svg><line stroke=\"black\" x1=\"50%\" x2=\"50%\" y1=\"20px\" y2=\"48px\" /></svg><line stroke=\"black\" x1=\"50%\" x2=\"86.8966%\" y1=\"20px\" y2=\"48px\" /><svg width=\"4.82759%\" x=\"91.7241%\" y=\"48px\"><defs /><svg width=\"100%\" x=\"0\" y=\"0px\"><defs /><text text-anchor=\"middle\" x=\"50%\" y=\"16px\">model</text></svg><svg width=\"100%\" x=\"0%\" y=\"48px\"><defs /><svg width=\"100%\" x=\"0\" y=\"0px\"><defs /><text text-anchor=\"middle\" x=\"50%\" y=\"16px\">NN</text></svg></svg><line stroke=\"black\" x1=\"50%\" x2=\"50%\" y1=\"20px\" y2=\"48px\" /></svg><line stroke=\"black\" x1=\"50%\" x2=\"94.1379%\" y1=\"20px\" y2=\"48px\" /><svg width=\"3.44828%\" x=\"96.5517%\" y=\"48px\"><defs /><svg width=\"100%\" x=\"0\" y=\"0px\"><defs /><text text-anchor=\"middle\" x=\"50%\" y=\"16px\">'s</text></svg><svg width=\"100%\" x=\"0%\" y=\"48px\"><defs /><svg width=\"100%\" x=\"0\" y=\"0px\"><defs /><text text-anchor=\"middle\" x=\"50%\" y=\"16px\">POS</text></svg></svg><line stroke=\"black\" x1=\"50%\" x2=\"50%\" y1=\"20px\" y2=\"48px\" /></svg><line stroke=\"black\" x1=\"50%\" x2=\"98.2759%\" y1=\"20px\" y2=\"48px\" /></svg>"
      ],
      "text/plain": [
       "Tree('S', [('My', 'PRP$'), ('name', 'NN'), ('is', 'VBZ'), Tree('PERSON', [('Abhishek', 'NNP')]), (',', ','), ('i', 'NN'), ('am', 'VBP'), ('currently', 'RB'), ('working', 'VBG'), ('on', 'IN'), Tree('ORGANIZATION', [('GenAI', 'NNP')]), (',', ','), Tree('ORGANIZATION', [('LLMS', 'NNP')]), (',', ','), ('and', 'CC'), ('also', 'RB'), ('developed', 'VBD'), Tree('ORGANIZATION', [('ChatGPT', 'NNP')]), ('model', 'NN'), (\"'s\", 'POS')])"
      ]
     },
     "execution_count": 4,
     "metadata": {},
     "output_type": "execute_result"
    }
   ],
   "source": [
    "ne_chunk(pos_tag(word_tokenize(text)))"
   ]
  },
  {
   "cell_type": "code",
   "execution_count": 1,
   "metadata": {},
   "outputs": [
    {
     "name": "stderr",
     "output_type": "stream",
     "text": [
      "/opt/anaconda3/envs/genAI/lib/python3.8/site-packages/tqdm/auto.py:21: TqdmWarning: IProgress not found. Please update jupyter and ipywidgets. See https://ipywidgets.readthedocs.io/en/stable/user_install.html\n",
      "  from .autonotebook import tqdm as notebook_tqdm\n",
      "2025-03-26 17:15:03.690904: I tensorflow/core/platform/cpu_feature_guard.cc:182] This TensorFlow binary is optimized to use available CPU instructions in performance-critical operations.\n",
      "To enable the following instructions: AVX2 FMA, in other operations, rebuild TensorFlow with the appropriate compiler flags.\n"
     ]
    }
   ],
   "source": [
    "from transformers import pipeline"
   ]
  },
  {
   "cell_type": "code",
   "execution_count": 9,
   "metadata": {},
   "outputs": [
    {
     "name": "stderr",
     "output_type": "stream",
     "text": [
      "All PyTorch model weights were used when initializing TFBertForTokenClassification.\n",
      "\n",
      "All the weights of TFBertForTokenClassification were initialized from the PyTorch model.\n",
      "If your task is similar to the task the model of the checkpoint was trained on, you can already use TFBertForTokenClassification for predictions without further training.\n"
     ]
    }
   ],
   "source": [
    "ner_generation = pipeline('ner', model= \"dbmdz/bert-large-cased-finetuned-conll03-english\")"
   ]
  },
  {
   "cell_type": "code",
   "execution_count": 10,
   "metadata": {},
   "outputs": [
    {
     "data": {
      "text/plain": [
       "[{'entity': 'B-PER',\n",
       "  'score': 0.99861693,\n",
       "  'index': 4,\n",
       "  'word': 'A',\n",
       "  'start': 11,\n",
       "  'end': 12},\n",
       " {'entity': 'B-PER',\n",
       "  'score': 0.9931357,\n",
       "  'index': 5,\n",
       "  'word': '##b',\n",
       "  'start': 12,\n",
       "  'end': 13},\n",
       " {'entity': 'B-PER',\n",
       "  'score': 0.64888924,\n",
       "  'index': 6,\n",
       "  'word': '##his',\n",
       "  'start': 13,\n",
       "  'end': 16},\n",
       " {'entity': 'B-PER',\n",
       "  'score': 0.57696515,\n",
       "  'index': 7,\n",
       "  'word': '##he',\n",
       "  'start': 16,\n",
       "  'end': 18},\n",
       " {'entity': 'B-PER',\n",
       "  'score': 0.8360645,\n",
       "  'index': 8,\n",
       "  'word': '##k',\n",
       "  'start': 18,\n",
       "  'end': 19},\n",
       " {'entity': 'B-ORG',\n",
       "  'score': 0.55660343,\n",
       "  'index': 15,\n",
       "  'word': 'Gen',\n",
       "  'start': 47,\n",
       "  'end': 50},\n",
       " {'entity': 'I-MISC',\n",
       "  'score': 0.9594034,\n",
       "  'index': 16,\n",
       "  'word': '##A',\n",
       "  'start': 50,\n",
       "  'end': 51},\n",
       " {'entity': 'B-ORG',\n",
       "  'score': 0.96150225,\n",
       "  'index': 19,\n",
       "  'word': 'LL',\n",
       "  'start': 54,\n",
       "  'end': 56},\n",
       " {'entity': 'I-ORG',\n",
       "  'score': 0.7195581,\n",
       "  'index': 20,\n",
       "  'word': '##MS',\n",
       "  'start': 56,\n",
       "  'end': 58},\n",
       " {'entity': 'B-MISC',\n",
       "  'score': 0.93976146,\n",
       "  'index': 25,\n",
       "  'word': 'Cha',\n",
       "  'start': 79,\n",
       "  'end': 82},\n",
       " {'entity': 'I-MISC',\n",
       "  'score': 0.8734405,\n",
       "  'index': 27,\n",
       "  'word': '##GP',\n",
       "  'start': 83,\n",
       "  'end': 85},\n",
       " {'entity': 'I-MISC',\n",
       "  'score': 0.5269635,\n",
       "  'index': 28,\n",
       "  'word': '##T',\n",
       "  'start': 85,\n",
       "  'end': 86}]"
      ]
     },
     "execution_count": 10,
     "metadata": {},
     "output_type": "execute_result"
    }
   ],
   "source": [
    "ner = ner_generation(text)\n",
    "ner  "
   ]
  },
  {
   "cell_type": "code",
   "execution_count": null,
   "metadata": {},
   "outputs": [],
   "source": []
  },
  {
   "cell_type": "code",
   "execution_count": null,
   "metadata": {},
   "outputs": [],
   "source": []
  }
 ],
 "metadata": {
  "kernelspec": {
   "display_name": "genAI",
   "language": "python",
   "name": "python3"
  },
  "language_info": {
   "codemirror_mode": {
    "name": "ipython",
    "version": 3
   },
   "file_extension": ".py",
   "mimetype": "text/x-python",
   "name": "python",
   "nbconvert_exporter": "python",
   "pygments_lexer": "ipython3",
   "version": "3.8.20"
  }
 },
 "nbformat": 4,
 "nbformat_minor": 2
}
